{
  "cells": [
    {
      "cell_type": "markdown",
      "metadata": {
        "id": "view-in-github",
        "colab_type": "text"
      },
      "source": [
        "<a href=\"https://colab.research.google.com/github/frikel12/Test-Project/blob/main/Twitter_Sentiment_Analysis_Project.ipynb\" target=\"_parent\"><img src=\"https://colab.research.google.com/assets/colab-badge.svg\" alt=\"Open In Colab\"/></a>"
      ]
    },
    {
      "cell_type": "markdown",
      "id": "28835543",
      "metadata": {
        "id": "28835543"
      },
      "source": [
        "# 1. Importing Libraries"
      ]
    },
    {
      "cell_type": "code",
      "execution_count": null,
      "id": "d529517f",
      "metadata": {
        "id": "d529517f",
        "outputId": "4f6e585c-bc7b-4ec1-8b5d-bdec9ba7e483"
      },
      "outputs": [
        {
          "ename": "ModuleNotFoundError",
          "evalue": "No module named 'tensorflow'",
          "output_type": "error",
          "traceback": [
            "\u001b[1;31m---------------------------------------------------------------------------\u001b[0m",
            "\u001b[1;31mModuleNotFoundError\u001b[0m                       Traceback (most recent call last)",
            "Cell \u001b[1;32mIn[1], line 4\u001b[0m\n\u001b[0;32m      2\u001b[0m \u001b[38;5;28;01mimport\u001b[39;00m \u001b[38;5;21;01mnumpy\u001b[39;00m \u001b[38;5;28;01mas\u001b[39;00m \u001b[38;5;21;01mnp\u001b[39;00m\n\u001b[0;32m      3\u001b[0m \u001b[38;5;28;01mimport\u001b[39;00m \u001b[38;5;21;01mstring\u001b[39;00m\n\u001b[1;32m----> 4\u001b[0m \u001b[38;5;28;01mfrom\u001b[39;00m \u001b[38;5;21;01mtensorflow\u001b[39;00m\u001b[38;5;21;01m.\u001b[39;00m\u001b[38;5;21;01mkeras\u001b[39;00m\u001b[38;5;21;01m.\u001b[39;00m\u001b[38;5;21;01mpreprocessing\u001b[39;00m\u001b[38;5;21;01m.\u001b[39;00m\u001b[38;5;21;01mtext\u001b[39;00m \u001b[38;5;28;01mimport\u001b[39;00m Tokenizer\n\u001b[0;32m      5\u001b[0m \u001b[38;5;28;01mfrom\u001b[39;00m \u001b[38;5;21;01mtensorflow\u001b[39;00m\u001b[38;5;21;01m.\u001b[39;00m\u001b[38;5;21;01mkeras\u001b[39;00m\u001b[38;5;21;01m.\u001b[39;00m\u001b[38;5;21;01mpreprocessing\u001b[39;00m\u001b[38;5;21;01m.\u001b[39;00m\u001b[38;5;21;01msequence\u001b[39;00m \u001b[38;5;28;01mimport\u001b[39;00m pad_sequences\n\u001b[0;32m      6\u001b[0m \u001b[38;5;28;01mimport\u001b[39;00m \u001b[38;5;21;01mmatplotlib\u001b[39;00m\u001b[38;5;21;01m.\u001b[39;00m\u001b[38;5;21;01mpyplot\u001b[39;00m \u001b[38;5;28;01mas\u001b[39;00m \u001b[38;5;21;01mplt\u001b[39;00m\n",
            "\u001b[1;31mModuleNotFoundError\u001b[0m: No module named 'tensorflow'"
          ]
        }
      ],
      "source": [
        "import pandas as pd\n",
        "import numpy as np\n",
        "import string\n",
        "from tensorflow.keras.preprocessing.text import Tokenizer\n",
        "from tensorflow.keras.preprocessing.sequence import pad_sequences\n",
        "import matplotlib.pyplot as plt\n",
        "import seaborn as sns\n",
        "from nltk.corpus import stopwords\n",
        "import nltk\n",
        "import re\n",
        "import multiprocessing\n",
        "import tensorflow as tf\n",
        "from sklearn.model_selection import train_test_split\n",
        "nltk.download(\"stopwords\")\n",
        "\n",
        "import warnings\n",
        "warnings.filterwarnings(\"ignore\")"
      ]
    },
    {
      "cell_type": "markdown",
      "id": "22bd62e1",
      "metadata": {
        "id": "22bd62e1"
      },
      "source": [
        "# 2. Load the Data"
      ]
    },
    {
      "cell_type": "code",
      "source": [
        "from os import listdir\n",
        "from matplotlib import image\n",
        "# Créer un objet de type list\n",
        "loaded_images = list()\n",
        "# On suppose que la base d'images est dans le dossier \"CBIR_DataSet/obj_decoys\" sur votre Google Drive\n",
        "\n",
        "# Charger Drive dans Colab\n",
        "from google.colab import drive\n",
        "# drive.mount va permettre d'utiliser les fichiers sauvegarder dans Drive\n",
        "# Il faut donner l'autorisation; un lien vous sera afficher.\n",
        "# Il faut cliquer sur le lien pour récupérer une clés d'autorisation\n",
        "drive.mount('/content/drive')\n",
        "\n",
        "# Déclarer l'objet qui va contenir les noms des images\n",
        "imageNames=[]\n",
        "\n",
        "path='/content/drive/My Drive/CBIR_DataSet/obj_decoys'\n",
        "# Boucler sur les images pour les lire et sauvegarder dans une variable\n",
        "for filename in listdir(path):\n",
        "    # Charger l'image\n",
        "    imageNames.append(filename)\n",
        "    img_data = image.imread(path+'/' + filename)\n",
        "    # Ajouter l'image à l'objet loaded_images\n",
        "    loaded_images.append(img_data)\n",
        "    # Activer l'instruction ci-dessus pour afficher les nom de images et les tailles\n",
        "    print(' %s %s ' % (filename, img_data.shape))"
      ],
      "metadata": {
        "id": "7qNDl1sQLoWo"
      },
      "id": "7qNDl1sQLoWo",
      "execution_count": null,
      "outputs": []
    },
    {
      "cell_type": "code",
      "execution_count": null,
      "id": "b29af71c",
      "metadata": {
        "id": "b29af71c"
      },
      "outputs": [],
      "source": [
        "col_names = [\"target\", \"ids\", \"date\", \"flag\", \"user\", \"text\"]\n",
        "\n",
        "df = pd.read_csv('tweets.csv',\n",
        "            encoding = \"ISO-8859-1\",\n",
        "            names=col_names)"
      ]
    },
    {
      "cell_type": "code",
      "execution_count": null,
      "id": "46ebb59d",
      "metadata": {
        "id": "46ebb59d",
        "outputId": "3ada85ba-53df-47b4-a49b-7e09f6a8b9f9"
      },
      "outputs": [
        {
          "data": {
            "text/html": [
              "<div>\n",
              "<style scoped>\n",
              "    .dataframe tbody tr th:only-of-type {\n",
              "        vertical-align: middle;\n",
              "    }\n",
              "\n",
              "    .dataframe tbody tr th {\n",
              "        vertical-align: top;\n",
              "    }\n",
              "\n",
              "    .dataframe thead th {\n",
              "        text-align: right;\n",
              "    }\n",
              "</style>\n",
              "<table border=\"1\" class=\"dataframe\">\n",
              "  <thead>\n",
              "    <tr style=\"text-align: right;\">\n",
              "      <th></th>\n",
              "      <th>target</th>\n",
              "      <th>ids</th>\n",
              "      <th>date</th>\n",
              "      <th>flag</th>\n",
              "      <th>user</th>\n",
              "      <th>text</th>\n",
              "    </tr>\n",
              "  </thead>\n",
              "  <tbody>\n",
              "    <tr>\n",
              "      <th>458467</th>\n",
              "      <td>0</td>\n",
              "      <td>2071902507</td>\n",
              "      <td>Sun Jun 07 20:05:51 PDT 2009</td>\n",
              "      <td>NO_QUERY</td>\n",
              "      <td>A_Diva_Inc</td>\n",
              "      <td>And he makes it</td>\n",
              "    </tr>\n",
              "    <tr>\n",
              "      <th>159285</th>\n",
              "      <td>0</td>\n",
              "      <td>1956805402</td>\n",
              "      <td>Thu May 28 22:44:09 PDT 2009</td>\n",
              "      <td>NO_QUERY</td>\n",
              "      <td>brigwyn</td>\n",
              "      <td>@superkathoid aww. that really sad.  *hugs*</td>\n",
              "    </tr>\n",
              "    <tr>\n",
              "      <th>1074807</th>\n",
              "      <td>4</td>\n",
              "      <td>1967042488</td>\n",
              "      <td>Fri May 29 18:52:07 PDT 2009</td>\n",
              "      <td>NO_QUERY</td>\n",
              "      <td>oceanus17</td>\n",
              "      <td>@Wersching if they don't like it they can unfo...</td>\n",
              "    </tr>\n",
              "    <tr>\n",
              "      <th>1112180</th>\n",
              "      <td>4</td>\n",
              "      <td>1972365469</td>\n",
              "      <td>Sat May 30 09:05:19 PDT 2009</td>\n",
              "      <td>NO_QUERY</td>\n",
              "      <td>RiskyMissCash</td>\n",
              "      <td>@SimPlyMoReNa I'm lovely  bout to go job hunti...</td>\n",
              "    </tr>\n",
              "    <tr>\n",
              "      <th>135368</th>\n",
              "      <td>0</td>\n",
              "      <td>1836509458</td>\n",
              "      <td>Mon May 18 08:07:28 PDT 2009</td>\n",
              "      <td>NO_QUERY</td>\n",
              "      <td>BiiBiiLa</td>\n",
              "      <td>i'm going to revise again  exams i hate that !</td>\n",
              "    </tr>\n",
              "  </tbody>\n",
              "</table>\n",
              "</div>"
            ],
            "text/plain": [
              "         target         ids                          date      flag  \\\n",
              "458467        0  2071902507  Sun Jun 07 20:05:51 PDT 2009  NO_QUERY   \n",
              "159285        0  1956805402  Thu May 28 22:44:09 PDT 2009  NO_QUERY   \n",
              "1074807       4  1967042488  Fri May 29 18:52:07 PDT 2009  NO_QUERY   \n",
              "1112180       4  1972365469  Sat May 30 09:05:19 PDT 2009  NO_QUERY   \n",
              "135368        0  1836509458  Mon May 18 08:07:28 PDT 2009  NO_QUERY   \n",
              "\n",
              "                  user                                               text  \n",
              "458467      A_Diva_Inc                                   And he makes it   \n",
              "159285         brigwyn        @superkathoid aww. that really sad.  *hugs*  \n",
              "1074807      oceanus17  @Wersching if they don't like it they can unfo...  \n",
              "1112180  RiskyMissCash  @SimPlyMoReNa I'm lovely  bout to go job hunti...  \n",
              "135368        BiiBiiLa     i'm going to revise again  exams i hate that !  "
            ]
          },
          "execution_count": 3,
          "metadata": {},
          "output_type": "execute_result"
        }
      ],
      "source": [
        "df = df.sample(160000)\n",
        "df.head()"
      ]
    },
    {
      "cell_type": "markdown",
      "id": "3a7c1918",
      "metadata": {
        "id": "3a7c1918"
      },
      "source": [
        "# 3. Explore the Data"
      ]
    },
    {
      "cell_type": "code",
      "execution_count": null,
      "id": "a46fafed",
      "metadata": {
        "id": "a46fafed",
        "outputId": "cb872fe1-235d-4266-f594-bacf1ea5e26f"
      },
      "outputs": [
        {
          "name": "stdout",
          "output_type": "stream",
          "text": [
            "<class 'pandas.core.frame.DataFrame'>\n",
            "Int64Index: 160000 entries, 458467 to 896367\n",
            "Data columns (total 6 columns):\n",
            " #   Column  Non-Null Count   Dtype \n",
            "---  ------  --------------   ----- \n",
            " 0   target  160000 non-null  int64 \n",
            " 1   ids     160000 non-null  int64 \n",
            " 2   date    160000 non-null  object\n",
            " 3   flag    160000 non-null  object\n",
            " 4   user    160000 non-null  object\n",
            " 5   text    160000 non-null  object\n",
            "dtypes: int64(2), object(4)\n",
            "memory usage: 8.5+ MB\n"
          ]
        }
      ],
      "source": [
        "df.info()\n"
      ]
    },
    {
      "cell_type": "code",
      "execution_count": null,
      "id": "c81fb752",
      "metadata": {
        "id": "c81fb752",
        "outputId": "969d35d8-4b88-4f8a-eee4-567ba9af1501"
      },
      "outputs": [
        {
          "data": {
            "text/plain": [
              "(160000, 6)"
            ]
          },
          "execution_count": 5,
          "metadata": {},
          "output_type": "execute_result"
        }
      ],
      "source": [
        "df.shape\n"
      ]
    },
    {
      "cell_type": "code",
      "execution_count": null,
      "id": "d3258b82",
      "metadata": {
        "id": "d3258b82",
        "outputId": "a79bf94e-761c-4cf3-c319-5bb0c2a6e7ad"
      },
      "outputs": [
        {
          "data": {
            "text/html": [
              "<div>\n",
              "<style scoped>\n",
              "    .dataframe tbody tr th:only-of-type {\n",
              "        vertical-align: middle;\n",
              "    }\n",
              "\n",
              "    .dataframe tbody tr th {\n",
              "        vertical-align: top;\n",
              "    }\n",
              "\n",
              "    .dataframe thead th {\n",
              "        text-align: right;\n",
              "    }\n",
              "</style>\n",
              "<table border=\"1\" class=\"dataframe\">\n",
              "  <thead>\n",
              "    <tr style=\"text-align: right;\">\n",
              "      <th></th>\n",
              "      <th>target</th>\n",
              "      <th>ids</th>\n",
              "      <th>date</th>\n",
              "      <th>flag</th>\n",
              "      <th>user</th>\n",
              "      <th>text</th>\n",
              "    </tr>\n",
              "  </thead>\n",
              "  <tbody>\n",
              "    <tr>\n",
              "      <th>count</th>\n",
              "      <td>160000.000000</td>\n",
              "      <td>1.600000e+05</td>\n",
              "      <td>160000</td>\n",
              "      <td>160000</td>\n",
              "      <td>160000</td>\n",
              "      <td>160000</td>\n",
              "    </tr>\n",
              "    <tr>\n",
              "      <th>unique</th>\n",
              "      <td>NaN</td>\n",
              "      <td>NaN</td>\n",
              "      <td>143832</td>\n",
              "      <td>1</td>\n",
              "      <td>123283</td>\n",
              "      <td>159414</td>\n",
              "    </tr>\n",
              "    <tr>\n",
              "      <th>top</th>\n",
              "      <td>NaN</td>\n",
              "      <td>NaN</td>\n",
              "      <td>Fri May 29 14:28:29 PDT 2009</td>\n",
              "      <td>NO_QUERY</td>\n",
              "      <td>lost_dog</td>\n",
              "      <td>isPlayer Has Died! Sorry</td>\n",
              "    </tr>\n",
              "    <tr>\n",
              "      <th>freq</th>\n",
              "      <td>NaN</td>\n",
              "      <td>NaN</td>\n",
              "      <td>6</td>\n",
              "      <td>160000</td>\n",
              "      <td>59</td>\n",
              "      <td>22</td>\n",
              "    </tr>\n",
              "    <tr>\n",
              "      <th>mean</th>\n",
              "      <td>2.000000</td>\n",
              "      <td>1.998709e+09</td>\n",
              "      <td>NaN</td>\n",
              "      <td>NaN</td>\n",
              "      <td>NaN</td>\n",
              "      <td>NaN</td>\n",
              "    </tr>\n",
              "    <tr>\n",
              "      <th>std</th>\n",
              "      <td>2.000006</td>\n",
              "      <td>1.935839e+08</td>\n",
              "      <td>NaN</td>\n",
              "      <td>NaN</td>\n",
              "      <td>NaN</td>\n",
              "      <td>NaN</td>\n",
              "    </tr>\n",
              "    <tr>\n",
              "      <th>min</th>\n",
              "      <td>0.000000</td>\n",
              "      <td>1.467811e+09</td>\n",
              "      <td>NaN</td>\n",
              "      <td>NaN</td>\n",
              "      <td>NaN</td>\n",
              "      <td>NaN</td>\n",
              "    </tr>\n",
              "    <tr>\n",
              "      <th>25%</th>\n",
              "      <td>0.000000</td>\n",
              "      <td>1.956744e+09</td>\n",
              "      <td>NaN</td>\n",
              "      <td>NaN</td>\n",
              "      <td>NaN</td>\n",
              "      <td>NaN</td>\n",
              "    </tr>\n",
              "    <tr>\n",
              "      <th>50%</th>\n",
              "      <td>2.000000</td>\n",
              "      <td>2.001866e+09</td>\n",
              "      <td>NaN</td>\n",
              "      <td>NaN</td>\n",
              "      <td>NaN</td>\n",
              "      <td>NaN</td>\n",
              "    </tr>\n",
              "    <tr>\n",
              "      <th>75%</th>\n",
              "      <td>4.000000</td>\n",
              "      <td>2.177018e+09</td>\n",
              "      <td>NaN</td>\n",
              "      <td>NaN</td>\n",
              "      <td>NaN</td>\n",
              "      <td>NaN</td>\n",
              "    </tr>\n",
              "    <tr>\n",
              "      <th>max</th>\n",
              "      <td>4.000000</td>\n",
              "      <td>2.329205e+09</td>\n",
              "      <td>NaN</td>\n",
              "      <td>NaN</td>\n",
              "      <td>NaN</td>\n",
              "      <td>NaN</td>\n",
              "    </tr>\n",
              "  </tbody>\n",
              "</table>\n",
              "</div>"
            ],
            "text/plain": [
              "               target           ids                          date      flag  \\\n",
              "count   160000.000000  1.600000e+05                        160000    160000   \n",
              "unique            NaN           NaN                        143832         1   \n",
              "top               NaN           NaN  Fri May 29 14:28:29 PDT 2009  NO_QUERY   \n",
              "freq              NaN           NaN                             6    160000   \n",
              "mean         2.000000  1.998709e+09                           NaN       NaN   \n",
              "std          2.000006  1.935839e+08                           NaN       NaN   \n",
              "min          0.000000  1.467811e+09                           NaN       NaN   \n",
              "25%          0.000000  1.956744e+09                           NaN       NaN   \n",
              "50%          2.000000  2.001866e+09                           NaN       NaN   \n",
              "75%          4.000000  2.177018e+09                           NaN       NaN   \n",
              "max          4.000000  2.329205e+09                           NaN       NaN   \n",
              "\n",
              "            user                       text  \n",
              "count     160000                     160000  \n",
              "unique    123283                     159414  \n",
              "top     lost_dog  isPlayer Has Died! Sorry   \n",
              "freq          59                         22  \n",
              "mean         NaN                        NaN  \n",
              "std          NaN                        NaN  \n",
              "min          NaN                        NaN  \n",
              "25%          NaN                        NaN  \n",
              "50%          NaN                        NaN  \n",
              "75%          NaN                        NaN  \n",
              "max          NaN                        NaN  "
            ]
          },
          "execution_count": 6,
          "metadata": {},
          "output_type": "execute_result"
        }
      ],
      "source": [
        "df.describe(include='all')\n"
      ]
    },
    {
      "cell_type": "code",
      "execution_count": null,
      "id": "0034cd71",
      "metadata": {
        "id": "0034cd71",
        "outputId": "aec51366-5b45-4347-8f62-299ec5b50810"
      },
      "outputs": [
        {
          "data": {
            "text/plain": [
              "<AxesSubplot:xlabel='target', ylabel='count'>"
            ]
          },
          "execution_count": 7,
          "metadata": {},
          "output_type": "execute_result"
        },
        {
          "data": {
            "image/png": "[encoded data removed]",
            "text/plain": [
              "<Figure size 640x480 with 1 Axes>"
            ]
          },
          "metadata": {},
          "output_type": "display_data"
        }
      ],
      "source": [
        "sns.countplot(x=df['target'])"
      ]
    },
    {
      "cell_type": "code",
      "execution_count": null,
      "id": "b9f75179",
      "metadata": {
        "id": "b9f75179",
        "outputId": "7fd106ce-ba0d-4e94-b40c-99ea5d3cd513"
      },
      "outputs": [
        {
          "data": {
            "text/plain": [
              "array([0, 1], dtype=int64)"
            ]
          },
          "execution_count": 13,
          "metadata": {},
          "output_type": "execute_result"
        }
      ],
      "source": [
        "df['target'].unique()"
      ]
    },
    {
      "cell_type": "code",
      "execution_count": null,
      "id": "e16e81e0",
      "metadata": {
        "id": "e16e81e0"
      },
      "outputs": [],
      "source": [
        "df['target'] = df['target'].replace(4, 1)"
      ]
    },
    {
      "cell_type": "code",
      "execution_count": null,
      "id": "74e4c0d7",
      "metadata": {
        "id": "74e4c0d7",
        "outputId": "32b2392c-0aad-480e-b2aa-a56c8858b7fb"
      },
      "outputs": [
        {
          "data": {
            "text/plain": [
              "array([0, 1], dtype=int64)"
            ]
          },
          "execution_count": 12,
          "metadata": {},
          "output_type": "execute_result"
        }
      ],
      "source": [
        "df['target'].unique()"
      ]
    },
    {
      "cell_type": "code",
      "execution_count": null,
      "id": "c2035018",
      "metadata": {
        "id": "c2035018",
        "outputId": "0d142027-6999-4bfc-d042-ceaf100b4bec"
      },
      "outputs": [
        {
          "data": {
            "text/html": [
              "<div>\n",
              "<style scoped>\n",
              "    .dataframe tbody tr th:only-of-type {\n",
              "        vertical-align: middle;\n",
              "    }\n",
              "\n",
              "    .dataframe tbody tr th {\n",
              "        vertical-align: top;\n",
              "    }\n",
              "\n",
              "    .dataframe thead th {\n",
              "        text-align: right;\n",
              "    }\n",
              "</style>\n",
              "<table border=\"1\" class=\"dataframe\">\n",
              "  <thead>\n",
              "    <tr style=\"text-align: right;\">\n",
              "      <th></th>\n",
              "      <th>target</th>\n",
              "      <th>text</th>\n",
              "    </tr>\n",
              "  </thead>\n",
              "  <tbody>\n",
              "    <tr>\n",
              "      <th>458467</th>\n",
              "      <td>0</td>\n",
              "      <td>And he makes it</td>\n",
              "    </tr>\n",
              "    <tr>\n",
              "      <th>159285</th>\n",
              "      <td>0</td>\n",
              "      <td>@superkathoid aww. that really sad.  *hugs*</td>\n",
              "    </tr>\n",
              "    <tr>\n",
              "      <th>1074807</th>\n",
              "      <td>1</td>\n",
              "      <td>@Wersching if they don't like it they can unfo...</td>\n",
              "    </tr>\n",
              "    <tr>\n",
              "      <th>1112180</th>\n",
              "      <td>1</td>\n",
              "      <td>@SimPlyMoReNa I'm lovely  bout to go job hunti...</td>\n",
              "    </tr>\n",
              "    <tr>\n",
              "      <th>135368</th>\n",
              "      <td>0</td>\n",
              "      <td>i'm going to revise again  exams i hate that !</td>\n",
              "    </tr>\n",
              "  </tbody>\n",
              "</table>\n",
              "</div>"
            ],
            "text/plain": [
              "         target                                               text\n",
              "458467        0                                   And he makes it \n",
              "159285        0        @superkathoid aww. that really sad.  *hugs*\n",
              "1074807       1  @Wersching if they don't like it they can unfo...\n",
              "1112180       1  @SimPlyMoReNa I'm lovely  bout to go job hunti...\n",
              "135368        0     i'm going to revise again  exams i hate that !"
            ]
          },
          "execution_count": 14,
          "metadata": {},
          "output_type": "execute_result"
        }
      ],
      "source": [
        "df = df.drop(['ids', 'date', 'flag','user'], axis = 1)\n",
        "df.head()"
      ]
    },
    {
      "cell_type": "markdown",
      "id": "7c961076",
      "metadata": {
        "id": "7c961076"
      },
      "source": [
        "# 4. Preprocessing"
      ]
    },
    {
      "cell_type": "code",
      "execution_count": null,
      "id": "48542eb4",
      "metadata": {
        "id": "48542eb4"
      },
      "outputs": [],
      "source": [
        "data = df['text']\n",
        "labels = np.array(df['target'])"
      ]
    },
    {
      "cell_type": "code",
      "execution_count": null,
      "id": "3c1a149a",
      "metadata": {
        "id": "3c1a149a",
        "outputId": "64d22407-e1c5-4b55-e9de-baccd8f05903"
      },
      "outputs": [
        {
          "data": {
            "text/plain": [
              "'@superkathoid aww. that really sad.  *hugs*'"
            ]
          },
          "execution_count": 16,
          "metadata": {},
          "output_type": "execute_result"
        }
      ],
      "source": [
        "data.iloc[1]"
      ]
    },
    {
      "cell_type": "code",
      "execution_count": null,
      "id": "4622b7a6",
      "metadata": {
        "id": "4622b7a6"
      },
      "outputs": [],
      "source": [
        "stop = set(stopwords.words('english'))\n",
        "punctuation = list(string.punctuation)\n",
        "stop.update(punctuation)\n",
        "\n",
        "def split_into_words(text):\n",
        "    words = text.split()\n",
        "    return words\n",
        "\n",
        "def to_lower_case(words):\n",
        "    words = [word.lower() for word in words]\n",
        "    return words\n",
        "\n",
        "def remove_punctuation(words):\n",
        "    re_punc = re.compile('[%s]' % re.escape(string.punctuation))\n",
        "    stripped = [re_punc.sub('', w) for w in words]\n",
        "    return stripped\n",
        "\n",
        "def keep_alphabetic(words):\n",
        "    words = [word for word in words if word.isalpha()]\n",
        "    return words\n",
        "\n",
        "def remove_stopwords(words):\n",
        "    stop_words = set(stopwords.words('english'))\n",
        "    words = [w for w in words if not w in stop_words]\n",
        "    return words\n",
        "\n",
        "def to_sentence(words):\n",
        "    return ' '.join(words)\n",
        "\n",
        "def tweet(words):\n",
        "    tweet_tokenizer = nltk.tokenize.TweetTokenizer(strip_handles=True,reduce_len=True)\n",
        "    tweet = tweet_tokenizer.tokenize(words)\n",
        "    return tweet\n",
        "\n",
        "\n",
        "def denoise_text(text):\n",
        "    words = split_into_words(text)\n",
        "    words = to_lower_case(words)\n",
        "    words = remove_punctuation(words)\n",
        "    words = keep_alphabetic(words)\n",
        "    words = remove_stopwords(words)\n",
        "    return to_sentence(words)\n"
      ]
    },
    {
      "cell_type": "code",
      "execution_count": null,
      "id": "07465491",
      "metadata": {
        "id": "07465491"
      },
      "outputs": [],
      "source": [
        "data = data.apply(denoise_text)"
      ]
    },
    {
      "cell_type": "code",
      "execution_count": null,
      "id": "0ae647ff",
      "metadata": {
        "id": "0ae647ff",
        "outputId": "d13e0afb-36f9-44b0-e333-d5dc1f0a7c2b"
      },
      "outputs": [
        {
          "name": "stdout",
          "output_type": "stream",
          "text": [
            "Before: ['And he makes it ', '@superkathoid aww. that really sad.  *hugs*']\n",
            "---\n",
            "After: ['makes', 'superkathoid aww really sad hugs']\n"
          ]
        }
      ],
      "source": [
        "print('Before: {}'. format(list(df['text'][:2])))\n",
        "print('---')\n",
        "print('After: {}'. format(list(data[:2])))"
      ]
    },
    {
      "cell_type": "code",
      "execution_count": null,
      "id": "03328ff0",
      "metadata": {
        "id": "03328ff0"
      },
      "outputs": [],
      "source": [
        "X_train, X_test, y_train, y_test = test = train_test_split(data, labels,test_size=0.20,\n",
        "                                                           random_state=1,\n",
        "                                                           stratify = labels)"
      ]
    },
    {
      "cell_type": "code",
      "execution_count": null,
      "id": "0e3b9704",
      "metadata": {
        "id": "0e3b9704",
        "outputId": "561894bc-35fb-45c8-95d0-71ca736e6080"
      },
      "outputs": [
        {
          "data": {
            "text/plain": [
              "116467"
            ]
          },
          "execution_count": 23,
          "metadata": {},
          "output_type": "execute_result"
        }
      ],
      "source": [
        "tokenizer = Tokenizer(num_words=10000, oov_token = '<OOV>')\n",
        "tokenizer.fit_on_texts(X_train)\n",
        "word_index = tokenizer.word_index\n",
        "VOCAB_SIZE = len(word_index)+1\n",
        "VOCAB_SIZE"
      ]
    },
    {
      "cell_type": "code",
      "execution_count": null,
      "id": "280b025b",
      "metadata": {
        "id": "280b025b"
      },
      "outputs": [],
      "source": [
        "maxlen = max([len(x) for x in X_train])\n",
        "maxlen = 50"
      ]
    },
    {
      "cell_type": "code",
      "execution_count": null,
      "id": "ef0f6677",
      "metadata": {
        "id": "ef0f6677"
      },
      "outputs": [],
      "source": [
        "train_sequences = tokenizer.texts_to_sequences(X_train)\n",
        "train_padded_sequences = pad_sequences(train_sequences,maxlen=maxlen,padding='post',truncating='post')\n",
        "test_sequences = tokenizer.texts_to_sequences(X_test)\n",
        "test_padded_sequences = pad_sequences(test_sequences,maxlen=maxlen,padding='post',truncating='post')"
      ]
    },
    {
      "cell_type": "code",
      "execution_count": null,
      "id": "a189894b",
      "metadata": {
        "id": "a189894b",
        "outputId": "02a3deed-0c2a-4f04-8cb7-25fec2868b06"
      },
      "outputs": [
        {
          "data": {
            "text/plain": [
              "50"
            ]
          },
          "execution_count": 27,
          "metadata": {},
          "output_type": "execute_result"
        }
      ],
      "source": [
        "len(train_padded_sequences[6])\n"
      ]
    },
    {
      "cell_type": "markdown",
      "id": "3e0fe747",
      "metadata": {
        "id": "3e0fe747"
      },
      "source": [
        "# 5. Data Modeling"
      ]
    },
    {
      "cell_type": "code",
      "execution_count": null,
      "id": "c0bcd055",
      "metadata": {
        "id": "c0bcd055"
      },
      "outputs": [],
      "source": [
        "embedding_dim = 32"
      ]
    },
    {
      "cell_type": "code",
      "execution_count": null,
      "id": "73e1531b",
      "metadata": {
        "id": "73e1531b"
      },
      "outputs": [],
      "source": [
        "model = tf.keras.Sequential([\n",
        "        tf.keras.layers.Embedding(VOCAB_SIZE+1, embedding_dim, input_length=maxlen),\n",
        "        tf.keras.layers.Bidirectional(tf.keras.layers.LSTM(16)),\n",
        "        tf.keras.layers.Flatten(),\n",
        "        tf.keras.layers.BatchNormalization(),\n",
        "        tf.keras.layers.Dropout(0.30),\n",
        "        tf.keras.layers.Dense(embedding_dim,activation='relu'),\n",
        "        tf.keras.layers.BatchNormalization(),\n",
        "        tf.keras.layers.Dropout(0.30),\n",
        "        tf.keras.layers.Dense(8,activation='relu'),\n",
        "        tf.keras.layers.Dense(1,activation='sigmoid'),\n",
        "    ])\n",
        "\n",
        "model.compile(loss = 'binary_crossentropy', optimizer = 'adam', metrics = ['accuracy'])"
      ]
    },
    {
      "cell_type": "code",
      "execution_count": null,
      "id": "301b7a0e",
      "metadata": {
        "id": "301b7a0e",
        "outputId": "f7ae5c5d-0782-493e-b473-071fa51ec869"
      },
      "outputs": [
        {
          "name": "stdout",
          "output_type": "stream",
          "text": [
            "Model: \"sequential\"\n",
            "_________________________________________________________________\n",
            " Layer (type)                Output Shape              Param #   \n",
            "=================================================================\n",
            " embedding (Embedding)       (None, 50, 32)            3726976   \n",
            "                                                                 \n",
            " bidirectional (Bidirectiona  (None, 32)               6272      \n",
            " l)                                                              \n",
            "                                                                 \n",
            " flatten (Flatten)           (None, 32)                0         \n",
            "                                                                 \n",
            " batch_normalization (BatchN  (None, 32)               128       \n",
            " ormalization)                                                   \n",
            "                                                                 \n",
            " dropout (Dropout)           (None, 32)                0         \n",
            "                                                                 \n",
            " dense (Dense)               (None, 32)                1056      \n",
            "                                                                 \n",
            " batch_normalization_1 (Batc  (None, 32)               128       \n",
            " hNormalization)                                                 \n",
            "                                                                 \n",
            " dropout_1 (Dropout)         (None, 32)                0         \n",
            "                                                                 \n",
            " dense_1 (Dense)             (None, 8)                 264       \n",
            "                                                                 \n",
            " dense_2 (Dense)             (None, 1)                 9         \n",
            "                                                                 \n",
            "=================================================================\n",
            "Total params: 3,734,833\n",
            "Trainable params: 3,734,705\n",
            "Non-trainable params: 128\n",
            "_________________________________________________________________\n"
          ]
        }
      ],
      "source": [
        "model.summary()"
      ]
    },
    {
      "cell_type": "code",
      "execution_count": null,
      "id": "72ba2322",
      "metadata": {
        "id": "72ba2322",
        "outputId": "48def10d-3f95-4601-95cd-b77f37211523"
      },
      "outputs": [
        {
          "name": "stdout",
          "output_type": "stream",
          "text": [
            "Epoch 1/3\n",
            "4000/4000 [==============================] - 329s 81ms/step - loss: 0.5469 - accuracy: 0.7240 - val_loss: 0.5014 - val_accuracy: 0.7575\n",
            "Epoch 2/3\n",
            "4000/4000 [==============================] - 319s 80ms/step - loss: 0.4776 - accuracy: 0.7737 - val_loss: 0.6082 - val_accuracy: 0.7479\n",
            "Epoch 3/3\n",
            "4000/4000 [==============================] - 321s 80ms/step - loss: 0.4518 - accuracy: 0.7870 - val_loss: 0.5210 - val_accuracy: 0.7361\n"
          ]
        }
      ],
      "source": [
        "history = model.fit(train_padded_sequences, y_train,\n",
        "                       validation_data = (test_padded_sequences, y_test),\n",
        "                       epochs = 3)"
      ]
    },
    {
      "cell_type": "code",
      "execution_count": null,
      "id": "49d066a0",
      "metadata": {
        "id": "49d066a0",
        "outputId": "2995ee02-1bb8-414e-b952-d8f335cedfab"
      },
      "outputs": [
        {
          "name": "stdout",
          "output_type": "stream",
          "text": [
            "well saw inkheart quite enjoyed really label: ; 1\n"
          ]
        }
      ],
      "source": [
        "print(X_test.iloc[99],'label: ;',y_test[99])"
      ]
    },
    {
      "cell_type": "code",
      "execution_count": null,
      "id": "d22da83b",
      "metadata": {
        "id": "d22da83b",
        "outputId": "16a677b7-8878-40ef-eb32-31e9152fe6c3"
      },
      "outputs": [
        {
          "data": {
            "image/png": "[encoded data removed]",
            "text/plain": [
              "<Figure size 640x480 with 1 Axes>"
            ]
          },
          "metadata": {},
          "output_type": "display_data"
        },
        {
          "data": {
            "image/png": "[encoded data removed]",
            "text/plain": [
              "<Figure size 640x480 with 1 Axes>"
            ]
          },
          "metadata": {},
          "output_type": "display_data"
        }
      ],
      "source": [
        "import matplotlib.pyplot as plt\n",
        "\n",
        "# Plot utility\n",
        "def plot_graphs(model, string):\n",
        "    plt.plot(model.history[string])\n",
        "    plt.plot(model.history['val_'+string])\n",
        "    plt.xlabel(\"Epochs\")\n",
        "    plt.ylabel(string)\n",
        "    plt.legend([string, 'val_'+string])\n",
        "    plt.show()\n",
        "\n",
        "# Plot the accuracy and loss\n",
        "plot_graphs(history, \"accuracy\")\n",
        "plot_graphs(history, \"loss\")"
      ]
    },
    {
      "cell_type": "code",
      "execution_count": null,
      "id": "416dcaf0",
      "metadata": {
        "id": "416dcaf0"
      },
      "outputs": [],
      "source": [
        "predicted_test=model.predict(X_test)\n",
        "\n",
        "from sklearn.metrics import confusion_matrix\n",
        "\n",
        "cm = confusion_matrix(y_test,predicted_test)\n",
        "\n",
        "import seaborn as sns\n",
        "import matplotlib.pyplot as plt\n",
        "\n",
        "sns.heatmap(cm,\n",
        "            annot=True,\n",
        "            fmt='g',\n",
        "            xticklabels=[Etiquette_1,Etiquette_2],\n",
        "            yticklabels=[Etiquette_1,Etiquette_2])\n",
        "plt.ylabel('Prediction',fontsize=13)\n",
        "plt.xlabel('Réelle',fontsize=13)\n",
        "plt.title('Matrice de confusion',fontsize=17)\n",
        "plt.show()"
      ]
    },
    {
      "cell_type": "code",
      "execution_count": null,
      "id": "2097fbe6",
      "metadata": {
        "id": "2097fbe6"
      },
      "outputs": [],
      "source": [
        "from sklearn.metrics import classification_report\n",
        "rapport = classification_report(y_test,predicted_test)\n",
        "\n",
        "print('Rapport de Classification : \\n',rapport)\n",
        "\n",
        "\n",
        "import sklearn.metrics as metrics\n",
        "print(\"Accuracy: \", metrics.accuracy_score(y_test, predicted_test))\n",
        "print(\"Recall : \", metrics.recall_score(y_test, predicted_test, average='macro'))\n",
        "print(\"Precision: \", metrics.precision_score(y_test, predicted_test, average='macro'))\n",
        "print(\"F1 score: \", metrics.f1_score(y_test, predicted_test, average='macro'))"
      ]
    },
    {
      "cell_type": "code",
      "execution_count": null,
      "id": "e9b4f731",
      "metadata": {
        "id": "e9b4f731",
        "outputId": "bbff03ce-7627-4f8d-f5b1-ce388e6dce2a"
      },
      "outputs": [
        {
          "name": "stderr",
          "output_type": "stream",
          "text": [
            "WARNING:absl:Found untraced functions such as _update_step_xla, lstm_cell_1_layer_call_fn, lstm_cell_1_layer_call_and_return_conditional_losses, lstm_cell_2_layer_call_fn, lstm_cell_2_layer_call_and_return_conditional_losses while saving (showing 5 of 5). These functions will not be directly callable after loading.\n"
          ]
        },
        {
          "name": "stdout",
          "output_type": "stream",
          "text": [
            "INFO:tensorflow:Assets written to: SentimentModel\\assets\n"
          ]
        },
        {
          "name": "stderr",
          "output_type": "stream",
          "text": [
            "INFO:tensorflow:Assets written to: SentimentModel\\assets\n"
          ]
        }
      ],
      "source": [
        "model.save('SentimentModel')\n",
        "model.save_weights(\"Model Weights\")"
      ]
    },
    {
      "cell_type": "code",
      "execution_count": null,
      "id": "1558c69e",
      "metadata": {
        "id": "1558c69e"
      },
      "outputs": [],
      "source": []
    }
  ],
  "metadata": {
    "kernelspec": {
      "display_name": "Python 3 (ipykernel)",
      "language": "python",
      "name": "python3"
    },
    "language_info": {
      "codemirror_mode": {
        "name": "ipython",
        "version": 3
      },
      "file_extension": ".py",
      "mimetype": "text/x-python",
      "name": "python",
      "nbconvert_exporter": "python",
      "pygments_lexer": "ipython3",
      "version": "3.11.5"
    },
    "colab": {
      "provenance": [],
      "include_colab_link": true
    }
  },
  "nbformat": 4,
  "nbformat_minor": 5
}