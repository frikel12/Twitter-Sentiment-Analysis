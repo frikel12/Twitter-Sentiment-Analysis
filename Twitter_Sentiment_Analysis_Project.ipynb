{
  "cells": [
    {
      "cell_type": "markdown",
      "metadata": {
        "id": "view-in-github",
        "colab_type": "text"
      },
      "source": [
        "<a href=\"https://colab.research.google.com/github/frikel12/Twitter-Sentiment-Analysis/blob/main/Twitter_Sentiment_Analysis_Project.ipynb\" target=\"_parent\"><img src=\"https://colab.research.google.com/assets/colab-badge.svg\" alt=\"Open In Colab\"/></a>"
      ]
    },
    {
      "cell_type": "markdown",
      "id": "28835543",
      "metadata": {
        "id": "28835543"
      },
      "source": [
        "# 1. Importing Libraries"
      ]
    },
    {
      "cell_type": "code",
      "execution_count": null,
      "id": "d529517f",
      "metadata": {
        "id": "d529517f",
        "outputId": "f93e53b4-c9c5-47d7-a8d4-d1539a26ef42",
        "colab": {
          "base_uri": "https://localhost:8080/"
        }
      },
      "outputs": [
        {
          "output_type": "stream",
          "name": "stderr",
          "text": [
            "[nltk_data] Downloading package stopwords to /root/nltk_data...\n",
            "[nltk_data]   Unzipping corpora/stopwords.zip.\n"
          ]
        }
      ],
      "source": [
        "import pandas as pd\n",
        "import numpy as np\n",
        "import string\n",
        "from tensorflow.keras.preprocessing.text import Tokenizer\n",
        "from tensorflow.keras.preprocessing.sequence import pad_sequences\n",
        "import matplotlib.pyplot as plt\n",
        "import seaborn as sns\n",
        "from nltk.corpus import stopwords\n",
        "import nltk\n",
        "import re\n",
        "import multiprocessing\n",
        "import tensorflow as tf\n",
        "from sklearn.model_selection import train_test_split\n",
        "nltk.download(\"stopwords\")\n",
        "\n",
        "import warnings\n",
        "warnings.filterwarnings(\"ignore\")"
      ]
    },
    {
      "cell_type": "markdown",
      "id": "22bd62e1",
      "metadata": {
        "id": "22bd62e1"
      },
      "source": [
        "# 2. Load the Data"
      ]
    },
    {
      "cell_type": "code",
      "source": [
        "import pandas as pd\n",
        "# Charger Drive dans Colab\n",
        "from google.colab import drive\n",
        "\n",
        "drive.mount('/content/drive')\n",
        "\n",
        "\n",
        "\n",
        "path='/content/drive/My Drive/Datasets/tweets.csv'\n",
        "col_names = [\"target\", \"ids\", \"date\", \"flag\", \"user\", \"text\"]\n",
        "\n",
        "df = pd.read_csv(path,\n",
        "            encoding = \"ISO-8859-1\",\n",
        "            names=col_names)"
      ],
      "metadata": {
        "id": "7qNDl1sQLoWo",
        "colab": {
          "base_uri": "https://localhost:8080/"
        },
        "outputId": "ced51b13-b218-4c16-9621-a40219223a49"
      },
      "id": "7qNDl1sQLoWo",
      "execution_count": null,
      "outputs": [
        {
          "output_type": "stream",
          "name": "stdout",
          "text": [
            "Mounted at /content/drive\n"
          ]
        }
      ]
    },
    {
      "cell_type": "code",
      "source": [
        "df.shape"
      ],
      "metadata": {
        "colab": {
          "base_uri": "https://localhost:8080/"
        },
        "id": "rYJk-8GHA-cH",
        "outputId": "f48a7014-ac12-493d-e330-d5c7e4e68eda"
      },
      "id": "rYJk-8GHA-cH",
      "execution_count": null,
      "outputs": [
        {
          "output_type": "execute_result",
          "data": {
            "text/plain": [
              "(1600000, 6)"
            ]
          },
          "metadata": {},
          "execution_count": 3
        }
      ]
    },
    {
      "cell_type": "code",
      "execution_count": null,
      "id": "46ebb59d",
      "metadata": {
        "id": "46ebb59d",
        "outputId": "8c6aeba9-ae64-4d86-887f-886bd2617594",
        "colab": {
          "base_uri": "https://localhost:8080/",
          "height": 206
        }
      },
      "outputs": [
        {
          "output_type": "execute_result",
          "data": {
            "text/plain": [
              "         target         ids                          date      flag  \\\n",
              "1469178       4  2064853441  Sun Jun 07 07:19:47 PDT 2009  NO_QUERY   \n",
              "1271632       4  2000587177  Mon Jun 01 22:27:31 PDT 2009  NO_QUERY   \n",
              "415941        0  2061188585  Sat Jun 06 20:21:29 PDT 2009  NO_QUERY   \n",
              "381983        0  2052895151  Sat Jun 06 02:26:56 PDT 2009  NO_QUERY   \n",
              "5560          0  1469122802  Tue Apr 07 05:17:31 PDT 2009  NO_QUERY   \n",
              "\n",
              "                  user                                               text  \n",
              "1469178    ReScUeMeGoD  Starbucks for coffee and scones for breakfast ...  \n",
              "1271632  mirandashines  Honestly I LOVE YOU @RyanSeacrest !!! U r SO h...  \n",
              "415941     kateadoodle  I couldn't save the baby bird.  My cat is such...  \n",
              "381983    panatlantica                      Someone ate all my chocolate   \n",
              "5560        alecwalker  Argh...throttled to 64k up and down...I know d...  "
            ],
            "text/html": [
              "\n",
              "  <div id=\"df-0263e5eb-89b5-4505-b075-cb6d117cc456\" class=\"colab-df-container\">\n",
              "    <div>\n",
              "<style scoped>\n",
              "    .dataframe tbody tr th:only-of-type {\n",
              "        vertical-align: middle;\n",
              "    }\n",
              "\n",
              "    .dataframe tbody tr th {\n",
              "        vertical-align: top;\n",
              "    }\n",
              "\n",
              "    .dataframe thead th {\n",
              "        text-align: right;\n",
              "    }\n",
              "</style>\n",
              "<table border=\"1\" class=\"dataframe\">\n",
              "  <thead>\n",
              "    <tr style=\"text-align: right;\">\n",
              "      <th></th>\n",
              "      <th>target</th>\n",
              "      <th>ids</th>\n",
              "      <th>date</th>\n",
              "      <th>flag</th>\n",
              "      <th>user</th>\n",
              "      <th>text</th>\n",
              "    </tr>\n",
              "  </thead>\n",
              "  <tbody>\n",
              "    <tr>\n",
              "      <th>1469178</th>\n",
              "      <td>4</td>\n",
              "      <td>2064853441</td>\n",
              "      <td>Sun Jun 07 07:19:47 PDT 2009</td>\n",
              "      <td>NO_QUERY</td>\n",
              "      <td>ReScUeMeGoD</td>\n",
              "      <td>Starbucks for coffee and scones for breakfast ...</td>\n",
              "    </tr>\n",
              "    <tr>\n",
              "      <th>1271632</th>\n",
              "      <td>4</td>\n",
              "      <td>2000587177</td>\n",
              "      <td>Mon Jun 01 22:27:31 PDT 2009</td>\n",
              "      <td>NO_QUERY</td>\n",
              "      <td>mirandashines</td>\n",
              "      <td>Honestly I LOVE YOU @RyanSeacrest !!! U r SO h...</td>\n",
              "    </tr>\n",
              "    <tr>\n",
              "      <th>415941</th>\n",
              "      <td>0</td>\n",
              "      <td>2061188585</td>\n",
              "      <td>Sat Jun 06 20:21:29 PDT 2009</td>\n",
              "      <td>NO_QUERY</td>\n",
              "      <td>kateadoodle</td>\n",
              "      <td>I couldn't save the baby bird.  My cat is such...</td>\n",
              "    </tr>\n",
              "    <tr>\n",
              "      <th>381983</th>\n",
              "      <td>0</td>\n",
              "      <td>2052895151</td>\n",
              "      <td>Sat Jun 06 02:26:56 PDT 2009</td>\n",
              "      <td>NO_QUERY</td>\n",
              "      <td>panatlantica</td>\n",
              "      <td>Someone ate all my chocolate</td>\n",
              "    </tr>\n",
              "    <tr>\n",
              "      <th>5560</th>\n",
              "      <td>0</td>\n",
              "      <td>1469122802</td>\n",
              "      <td>Tue Apr 07 05:17:31 PDT 2009</td>\n",
              "      <td>NO_QUERY</td>\n",
              "      <td>alecwalker</td>\n",
              "      <td>Argh...throttled to 64k up and down...I know d...</td>\n",
              "    </tr>\n",
              "  </tbody>\n",
              "</table>\n",
              "</div>\n",
              "    <div class=\"colab-df-buttons\">\n",
              "\n",
              "  <div class=\"colab-df-container\">\n",
              "    <button class=\"colab-df-convert\" onclick=\"convertToInteractive('df-0263e5eb-89b5-4505-b075-cb6d117cc456')\"\n",
              "            title=\"Convert this dataframe to an interactive table.\"\n",
              "            style=\"display:none;\">\n",
              "\n",
              "  <svg xmlns=\"http://www.w3.org/2000/svg\" height=\"24px\" viewBox=\"0 -960 960 960\">\n",
              "    <path d=\"M120-120v-720h720v720H120Zm60-500h600v-160H180v160Zm220 220h160v-160H400v160Zm0 220h160v-160H400v160ZM180-400h160v-160H180v160Zm440 0h160v-160H620v160ZM180-180h160v-160H180v160Zm440 0h160v-160H620v160Z\"/>\n",
              "  </svg>\n",
              "    </button>\n",
              "\n",
              "  <style>\n",
              "    .colab-df-container {\n",
              "      display:flex;\n",
              "      gap: 12px;\n",
              "    }\n",
              "\n",
              "    .colab-df-convert {\n",
              "      background-color: #E8F0FE;\n",
              "      border: none;\n",
              "      border-radius: 50%;\n",
              "      cursor: pointer;\n",
              "      display: none;\n",
              "      fill: #1967D2;\n",
              "      height: 32px;\n",
              "      padding: 0 0 0 0;\n",
              "      width: 32px;\n",
              "    }\n",
              "\n",
              "    .colab-df-convert:hover {\n",
              "      background-color: #E2EBFA;\n",
              "      box-shadow: 0px 1px 2px rgba(60, 64, 67, 0.3), 0px 1px 3px 1px rgba(60, 64, 67, 0.15);\n",
              "      fill: #174EA6;\n",
              "    }\n",
              "\n",
              "    .colab-df-buttons div {\n",
              "      margin-bottom: 4px;\n",
              "    }\n",
              "\n",
              "    [theme=dark] .colab-df-convert {\n",
              "      background-color: #3B4455;\n",
              "      fill: #D2E3FC;\n",
              "    }\n",
              "\n",
              "    [theme=dark] .colab-df-convert:hover {\n",
              "      background-color: #434B5C;\n",
              "      box-shadow: 0px 1px 3px 1px rgba(0, 0, 0, 0.15);\n",
              "      filter: drop-shadow(0px 1px 2px rgba(0, 0, 0, 0.3));\n",
              "      fill: #FFFFFF;\n",
              "    }\n",
              "  </style>\n",
              "\n",
              "    <script>\n",
              "      const buttonEl =\n",
              "        document.querySelector('#df-0263e5eb-89b5-4505-b075-cb6d117cc456 button.colab-df-convert');\n",
              "      buttonEl.style.display =\n",
              "        google.colab.kernel.accessAllowed ? 'block' : 'none';\n",
              "\n",
              "      async function convertToInteractive(key) {\n",
              "        const element = document.querySelector('#df-0263e5eb-89b5-4505-b075-cb6d117cc456');\n",
              "        const dataTable =\n",
              "          await google.colab.kernel.invokeFunction('convertToInteractive',\n",
              "                                                    [key], {});\n",
              "        if (!dataTable) return;\n",
              "\n",
              "        const docLinkHtml = 'Like what you see? Visit the ' +\n",
              "          '<a target=\"_blank\" href=https://colab.research.google.com/notebooks/data_table.ipynb>data table notebook</a>'\n",
              "          + ' to learn more about interactive tables.';\n",
              "        element.innerHTML = '';\n",
              "        dataTable['output_type'] = 'display_data';\n",
              "        await google.colab.output.renderOutput(dataTable, element);\n",
              "        const docLink = document.createElement('div');\n",
              "        docLink.innerHTML = docLinkHtml;\n",
              "        element.appendChild(docLink);\n",
              "      }\n",
              "    </script>\n",
              "  </div>\n",
              "\n",
              "\n",
              "<div id=\"df-72f00565-e4e4-45ef-ba0a-82170a85ff5b\">\n",
              "  <button class=\"colab-df-quickchart\" onclick=\"quickchart('df-72f00565-e4e4-45ef-ba0a-82170a85ff5b')\"\n",
              "            title=\"Suggest charts\"\n",
              "            style=\"display:none;\">\n",
              "\n",
              "<svg xmlns=\"http://www.w3.org/2000/svg\" height=\"24px\"viewBox=\"0 0 24 24\"\n",
              "     width=\"24px\">\n",
              "    <g>\n",
              "        <path d=\"M19 3H5c-1.1 0-2 .9-2 2v14c0 1.1.9 2 2 2h14c1.1 0 2-.9 2-2V5c0-1.1-.9-2-2-2zM9 17H7v-7h2v7zm4 0h-2V7h2v10zm4 0h-2v-4h2v4z\"/>\n",
              "    </g>\n",
              "</svg>\n",
              "  </button>\n",
              "\n",
              "<style>\n",
              "  .colab-df-quickchart {\n",
              "      --bg-color: #E8F0FE;\n",
              "      --fill-color: #1967D2;\n",
              "      --hover-bg-color: #E2EBFA;\n",
              "      --hover-fill-color: #174EA6;\n",
              "      --disabled-fill-color: #AAA;\n",
              "      --disabled-bg-color: #DDD;\n",
              "  }\n",
              "\n",
              "  [theme=dark] .colab-df-quickchart {\n",
              "      --bg-color: #3B4455;\n",
              "      --fill-color: #D2E3FC;\n",
              "      --hover-bg-color: #434B5C;\n",
              "      --hover-fill-color: #FFFFFF;\n",
              "      --disabled-bg-color: #3B4455;\n",
              "      --disabled-fill-color: #666;\n",
              "  }\n",
              "\n",
              "  .colab-df-quickchart {\n",
              "    background-color: var(--bg-color);\n",
              "    border: none;\n",
              "    border-radius: 50%;\n",
              "    cursor: pointer;\n",
              "    display: none;\n",
              "    fill: var(--fill-color);\n",
              "    height: 32px;\n",
              "    padding: 0;\n",
              "    width: 32px;\n",
              "  }\n",
              "\n",
              "  .colab-df-quickchart:hover {\n",
              "    background-color: var(--hover-bg-color);\n",
              "    box-shadow: 0 1px 2px rgba(60, 64, 67, 0.3), 0 1px 3px 1px rgba(60, 64, 67, 0.15);\n",
              "    fill: var(--button-hover-fill-color);\n",
              "  }\n",
              "\n",
              "  .colab-df-quickchart-complete:disabled,\n",
              "  .colab-df-quickchart-complete:disabled:hover {\n",
              "    background-color: var(--disabled-bg-color);\n",
              "    fill: var(--disabled-fill-color);\n",
              "    box-shadow: none;\n",
              "  }\n",
              "\n",
              "  .colab-df-spinner {\n",
              "    border: 2px solid var(--fill-color);\n",
              "    border-color: transparent;\n",
              "    border-bottom-color: var(--fill-color);\n",
              "    animation:\n",
              "      spin 1s steps(1) infinite;\n",
              "  }\n",
              "\n",
              "  @keyframes spin {\n",
              "    0% {\n",
              "      border-color: transparent;\n",
              "      border-bottom-color: var(--fill-color);\n",
              "      border-left-color: var(--fill-color);\n",
              "    }\n",
              "    20% {\n",
              "      border-color: transparent;\n",
              "      border-left-color: var(--fill-color);\n",
              "      border-top-color: var(--fill-color);\n",
              "    }\n",
              "    30% {\n",
              "      border-color: transparent;\n",
              "      border-left-color: var(--fill-color);\n",
              "      border-top-color: var(--fill-color);\n",
              "      border-right-color: var(--fill-color);\n",
              "    }\n",
              "    40% {\n",
              "      border-color: transparent;\n",
              "      border-right-color: var(--fill-color);\n",
              "      border-top-color: var(--fill-color);\n",
              "    }\n",
              "    60% {\n",
              "      border-color: transparent;\n",
              "      border-right-color: var(--fill-color);\n",
              "    }\n",
              "    80% {\n",
              "      border-color: transparent;\n",
              "      border-right-color: var(--fill-color);\n",
              "      border-bottom-color: var(--fill-color);\n",
              "    }\n",
              "    90% {\n",
              "      border-color: transparent;\n",
              "      border-bottom-color: var(--fill-color);\n",
              "    }\n",
              "  }\n",
              "</style>\n",
              "\n",
              "  <script>\n",
              "    async function quickchart(key) {\n",
              "      const quickchartButtonEl =\n",
              "        document.querySelector('#' + key + ' button');\n",
              "      quickchartButtonEl.disabled = true;  // To prevent multiple clicks.\n",
              "      quickchartButtonEl.classList.add('colab-df-spinner');\n",
              "      try {\n",
              "        const charts = await google.colab.kernel.invokeFunction(\n",
              "            'suggestCharts', [key], {});\n",
              "      } catch (error) {\n",
              "        console.error('Error during call to suggestCharts:', error);\n",
              "      }\n",
              "      quickchartButtonEl.classList.remove('colab-df-spinner');\n",
              "      quickchartButtonEl.classList.add('colab-df-quickchart-complete');\n",
              "    }\n",
              "    (() => {\n",
              "      let quickchartButtonEl =\n",
              "        document.querySelector('#df-72f00565-e4e4-45ef-ba0a-82170a85ff5b button');\n",
              "      quickchartButtonEl.style.display =\n",
              "        google.colab.kernel.accessAllowed ? 'block' : 'none';\n",
              "    })();\n",
              "  </script>\n",
              "</div>\n",
              "    </div>\n",
              "  </div>\n"
            ]
          },
          "metadata": {},
          "execution_count": 4
        }
      ],
      "source": [
        "df = df.sample(200000)\n",
        "df.head()"
      ]
    },
    {
      "cell_type": "markdown",
      "id": "3a7c1918",
      "metadata": {
        "id": "3a7c1918"
      },
      "source": [
        "# 3. Explore the Data"
      ]
    },
    {
      "cell_type": "code",
      "execution_count": null,
      "id": "a46fafed",
      "metadata": {
        "id": "a46fafed",
        "outputId": "be3ad25c-6f6f-4aaf-fd5a-a1aeadc6601f",
        "colab": {
          "base_uri": "https://localhost:8080/"
        }
      },
      "outputs": [
        {
          "output_type": "stream",
          "name": "stdout",
          "text": [
            "<class 'pandas.core.frame.DataFrame'>\n",
            "Int64Index: 200000 entries, 1469178 to 279747\n",
            "Data columns (total 6 columns):\n",
            " #   Column  Non-Null Count   Dtype \n",
            "---  ------  --------------   ----- \n",
            " 0   target  200000 non-null  int64 \n",
            " 1   ids     200000 non-null  int64 \n",
            " 2   date    200000 non-null  object\n",
            " 3   flag    200000 non-null  object\n",
            " 4   user    200000 non-null  object\n",
            " 5   text    200000 non-null  object\n",
            "dtypes: int64(2), object(4)\n",
            "memory usage: 10.7+ MB\n"
          ]
        }
      ],
      "source": [
        "df.info()\n"
      ]
    },
    {
      "cell_type": "code",
      "execution_count": null,
      "id": "c81fb752",
      "metadata": {
        "id": "c81fb752",
        "outputId": "7a2dc1d5-fd8b-477a-80d4-5fb500de8361",
        "colab": {
          "base_uri": "https://localhost:8080/"
        }
      },
      "outputs": [
        {
          "output_type": "execute_result",
          "data": {
            "text/plain": [
              "(200000, 6)"
            ]
          },
          "metadata": {},
          "execution_count": 6
        }
      ],
      "source": [
        "df.shape\n"
      ]
    },
    {
      "cell_type": "code",
      "execution_count": null,
      "id": "d3258b82",
      "metadata": {
        "id": "d3258b82",
        "outputId": "55472576-5916-4012-88dd-643b0eda0ee1",
        "colab": {
          "base_uri": "https://localhost:8080/",
          "height": 394
        }
      },
      "outputs": [
        {
          "output_type": "execute_result",
          "data": {
            "text/plain": [
              "               target           ids                          date      flag  \\\n",
              "count   200000.000000  2.000000e+05                        200000    200000   \n",
              "unique            NaN           NaN                        175356         1   \n",
              "top               NaN           NaN  Sat Jun 06 10:59:24 PDT 2009  NO_QUERY   \n",
              "freq              NaN           NaN                             7    200000   \n",
              "mean         2.001280  1.998781e+09                           NaN       NaN   \n",
              "std          2.000005  1.940346e+08                           NaN       NaN   \n",
              "min          0.000000  1.467810e+09                           NaN       NaN   \n",
              "25%          0.000000  1.956824e+09                           NaN       NaN   \n",
              "50%          4.000000  2.002108e+09                           NaN       NaN   \n",
              "75%          4.000000  2.177336e+09                           NaN       NaN   \n",
              "max          4.000000  2.329206e+09                           NaN       NaN   \n",
              "\n",
              "            user                       text  \n",
              "count     200000                     200000  \n",
              "unique    148586                     199116  \n",
              "top     lost_dog  isPlayer Has Died! Sorry   \n",
              "freq          68                         33  \n",
              "mean         NaN                        NaN  \n",
              "std          NaN                        NaN  \n",
              "min          NaN                        NaN  \n",
              "25%          NaN                        NaN  \n",
              "50%          NaN                        NaN  \n",
              "75%          NaN                        NaN  \n",
              "max          NaN                        NaN  "
            ],
            "text/html": [
              "\n",
              "  <div id=\"df-433d2070-d049-4172-9acf-c588dfe8c975\" class=\"colab-df-container\">\n",
              "    <div>\n",
              "<style scoped>\n",
              "    .dataframe tbody tr th:only-of-type {\n",
              "        vertical-align: middle;\n",
              "    }\n",
              "\n",
              "    .dataframe tbody tr th {\n",
              "        vertical-align: top;\n",
              "    }\n",
              "\n",
              "    .dataframe thead th {\n",
              "        text-align: right;\n",
              "    }\n",
              "</style>\n",
              "<table border=\"1\" class=\"dataframe\">\n",
              "  <thead>\n",
              "    <tr style=\"text-align: right;\">\n",
              "      <th></th>\n",
              "      <th>target</th>\n",
              "      <th>ids</th>\n",
              "      <th>date</th>\n",
              "      <th>flag</th>\n",
              "      <th>user</th>\n",
              "      <th>text</th>\n",
              "    </tr>\n",
              "  </thead>\n",
              "  <tbody>\n",
              "    <tr>\n",
              "      <th>count</th>\n",
              "      <td>200000.000000</td>\n",
              "      <td>2.000000e+05</td>\n",
              "      <td>200000</td>\n",
              "      <td>200000</td>\n",
              "      <td>200000</td>\n",
              "      <td>200000</td>\n",
              "    </tr>\n",
              "    <tr>\n",
              "      <th>unique</th>\n",
              "      <td>NaN</td>\n",
              "      <td>NaN</td>\n",
              "      <td>175356</td>\n",
              "      <td>1</td>\n",
              "      <td>148586</td>\n",
              "      <td>199116</td>\n",
              "    </tr>\n",
              "    <tr>\n",
              "      <th>top</th>\n",
              "      <td>NaN</td>\n",
              "      <td>NaN</td>\n",
              "      <td>Sat Jun 06 10:59:24 PDT 2009</td>\n",
              "      <td>NO_QUERY</td>\n",
              "      <td>lost_dog</td>\n",
              "      <td>isPlayer Has Died! Sorry</td>\n",
              "    </tr>\n",
              "    <tr>\n",
              "      <th>freq</th>\n",
              "      <td>NaN</td>\n",
              "      <td>NaN</td>\n",
              "      <td>7</td>\n",
              "      <td>200000</td>\n",
              "      <td>68</td>\n",
              "      <td>33</td>\n",
              "    </tr>\n",
              "    <tr>\n",
              "      <th>mean</th>\n",
              "      <td>2.001280</td>\n",
              "      <td>1.998781e+09</td>\n",
              "      <td>NaN</td>\n",
              "      <td>NaN</td>\n",
              "      <td>NaN</td>\n",
              "      <td>NaN</td>\n",
              "    </tr>\n",
              "    <tr>\n",
              "      <th>std</th>\n",
              "      <td>2.000005</td>\n",
              "      <td>1.940346e+08</td>\n",
              "      <td>NaN</td>\n",
              "      <td>NaN</td>\n",
              "      <td>NaN</td>\n",
              "      <td>NaN</td>\n",
              "    </tr>\n",
              "    <tr>\n",
              "      <th>min</th>\n",
              "      <td>0.000000</td>\n",
              "      <td>1.467810e+09</td>\n",
              "      <td>NaN</td>\n",
              "      <td>NaN</td>\n",
              "      <td>NaN</td>\n",
              "      <td>NaN</td>\n",
              "    </tr>\n",
              "    <tr>\n",
              "      <th>25%</th>\n",
              "      <td>0.000000</td>\n",
              "      <td>1.956824e+09</td>\n",
              "      <td>NaN</td>\n",
              "      <td>NaN</td>\n",
              "      <td>NaN</td>\n",
              "      <td>NaN</td>\n",
              "    </tr>\n",
              "    <tr>\n",
              "      <th>50%</th>\n",
              "      <td>4.000000</td>\n",
              "      <td>2.002108e+09</td>\n",
              "      <td>NaN</td>\n",
              "      <td>NaN</td>\n",
              "      <td>NaN</td>\n",
              "      <td>NaN</td>\n",
              "    </tr>\n",
              "    <tr>\n",
              "      <th>75%</th>\n",
              "      <td>4.000000</td>\n",
              "      <td>2.177336e+09</td>\n",
              "      <td>NaN</td>\n",
              "      <td>NaN</td>\n",
              "      <td>NaN</td>\n",
              "      <td>NaN</td>\n",
              "    </tr>\n",
              "    <tr>\n",
              "      <th>max</th>\n",
              "      <td>4.000000</td>\n",
              "      <td>2.329206e+09</td>\n",
              "      <td>NaN</td>\n",
              "      <td>NaN</td>\n",
              "      <td>NaN</td>\n",
              "      <td>NaN</td>\n",
              "    </tr>\n",
              "  </tbody>\n",
              "</table>\n",
              "</div>\n",
              "    <div class=\"colab-df-buttons\">\n",
              "\n",
              "  <div class=\"colab-df-container\">\n",
              "    <button class=\"colab-df-convert\" onclick=\"convertToInteractive('df-433d2070-d049-4172-9acf-c588dfe8c975')\"\n",
              "            title=\"Convert this dataframe to an interactive table.\"\n",
              "            style=\"display:none;\">\n",
              "\n",
              "  <svg xmlns=\"http://www.w3.org/2000/svg\" height=\"24px\" viewBox=\"0 -960 960 960\">\n",
              "    <path d=\"M120-120v-720h720v720H120Zm60-500h600v-160H180v160Zm220 220h160v-160H400v160Zm0 220h160v-160H400v160ZM180-400h160v-160H180v160Zm440 0h160v-160H620v160ZM180-180h160v-160H180v160Zm440 0h160v-160H620v160Z\"/>\n",
              "  </svg>\n",
              "    </button>\n",
              "\n",
              "  <style>\n",
              "    .colab-df-container {\n",
              "      display:flex;\n",
              "      gap: 12px;\n",
              "    }\n",
              "\n",
              "    .colab-df-convert {\n",
              "      background-color: #E8F0FE;\n",
              "      border: none;\n",
              "      border-radius: 50%;\n",
              "      cursor: pointer;\n",
              "      display: none;\n",
              "      fill: #1967D2;\n",
              "      height: 32px;\n",
              "      padding: 0 0 0 0;\n",
              "      width: 32px;\n",
              "    }\n",
              "\n",
              "    .colab-df-convert:hover {\n",
              "      background-color: #E2EBFA;\n",
              "      box-shadow: 0px 1px 2px rgba(60, 64, 67, 0.3), 0px 1px 3px 1px rgba(60, 64, 67, 0.15);\n",
              "      fill: #174EA6;\n",
              "    }\n",
              "\n",
              "    .colab-df-buttons div {\n",
              "      margin-bottom: 4px;\n",
              "    }\n",
              "\n",
              "    [theme=dark] .colab-df-convert {\n",
              "      background-color: #3B4455;\n",
              "      fill: #D2E3FC;\n",
              "    }\n",
              "\n",
              "    [theme=dark] .colab-df-convert:hover {\n",
              "      background-color: #434B5C;\n",
              "      box-shadow: 0px 1px 3px 1px rgba(0, 0, 0, 0.15);\n",
              "      filter: drop-shadow(0px 1px 2px rgba(0, 0, 0, 0.3));\n",
              "      fill: #FFFFFF;\n",
              "    }\n",
              "  </style>\n",
              "\n",
              "    <script>\n",
              "      const buttonEl =\n",
              "        document.querySelector('#df-433d2070-d049-4172-9acf-c588dfe8c975 button.colab-df-convert');\n",
              "      buttonEl.style.display =\n",
              "        google.colab.kernel.accessAllowed ? 'block' : 'none';\n",
              "\n",
              "      async function convertToInteractive(key) {\n",
              "        const element = document.querySelector('#df-433d2070-d049-4172-9acf-c588dfe8c975');\n",
              "        const dataTable =\n",
              "          await google.colab.kernel.invokeFunction('convertToInteractive',\n",
              "                                                    [key], {});\n",
              "        if (!dataTable) return;\n",
              "\n",
              "        const docLinkHtml = 'Like what you see? Visit the ' +\n",
              "          '<a target=\"_blank\" href=https://colab.research.google.com/notebooks/data_table.ipynb>data table notebook</a>'\n",
              "          + ' to learn more about interactive tables.';\n",
              "        element.innerHTML = '';\n",
              "        dataTable['output_type'] = 'display_data';\n",
              "        await google.colab.output.renderOutput(dataTable, element);\n",
              "        const docLink = document.createElement('div');\n",
              "        docLink.innerHTML = docLinkHtml;\n",
              "        element.appendChild(docLink);\n",
              "      }\n",
              "    </script>\n",
              "  </div>\n",
              "\n",
              "\n",
              "<div id=\"df-e55afcea-d739-4fee-b3b8-43d62fa37060\">\n",
              "  <button class=\"colab-df-quickchart\" onclick=\"quickchart('df-e55afcea-d739-4fee-b3b8-43d62fa37060')\"\n",
              "            title=\"Suggest charts\"\n",
              "            style=\"display:none;\">\n",
              "\n",
              "<svg xmlns=\"http://www.w3.org/2000/svg\" height=\"24px\"viewBox=\"0 0 24 24\"\n",
              "     width=\"24px\">\n",
              "    <g>\n",
              "        <path d=\"M19 3H5c-1.1 0-2 .9-2 2v14c0 1.1.9 2 2 2h14c1.1 0 2-.9 2-2V5c0-1.1-.9-2-2-2zM9 17H7v-7h2v7zm4 0h-2V7h2v10zm4 0h-2v-4h2v4z\"/>\n",
              "    </g>\n",
              "</svg>\n",
              "  </button>\n",
              "\n",
              "<style>\n",
              "  .colab-df-quickchart {\n",
              "      --bg-color: #E8F0FE;\n",
              "      --fill-color: #1967D2;\n",
              "      --hover-bg-color: #E2EBFA;\n",
              "      --hover-fill-color: #174EA6;\n",
              "      --disabled-fill-color: #AAA;\n",
              "      --disabled-bg-color: #DDD;\n",
              "  }\n",
              "\n",
              "  [theme=dark] .colab-df-quickchart {\n",
              "      --bg-color: #3B4455;\n",
              "      --fill-color: #D2E3FC;\n",
              "      --hover-bg-color: #434B5C;\n",
              "      --hover-fill-color: #FFFFFF;\n",
              "      --disabled-bg-color: #3B4455;\n",
              "      --disabled-fill-color: #666;\n",
              "  }\n",
              "\n",
              "  .colab-df-quickchart {\n",
              "    background-color: var(--bg-color);\n",
              "    border: none;\n",
              "    border-radius: 50%;\n",
              "    cursor: pointer;\n",
              "    display: none;\n",
              "    fill: var(--fill-color);\n",
              "    height: 32px;\n",
              "    padding: 0;\n",
              "    width: 32px;\n",
              "  }\n",
              "\n",
              "  .colab-df-quickchart:hover {\n",
              "    background-color: var(--hover-bg-color);\n",
              "    box-shadow: 0 1px 2px rgba(60, 64, 67, 0.3), 0 1px 3px 1px rgba(60, 64, 67, 0.15);\n",
              "    fill: var(--button-hover-fill-color);\n",
              "  }\n",
              "\n",
              "  .colab-df-quickchart-complete:disabled,\n",
              "  .colab-df-quickchart-complete:disabled:hover {\n",
              "    background-color: var(--disabled-bg-color);\n",
              "    fill: var(--disabled-fill-color);\n",
              "    box-shadow: none;\n",
              "  }\n",
              "\n",
              "  .colab-df-spinner {\n",
              "    border: 2px solid var(--fill-color);\n",
              "    border-color: transparent;\n",
              "    border-bottom-color: var(--fill-color);\n",
              "    animation:\n",
              "      spin 1s steps(1) infinite;\n",
              "  }\n",
              "\n",
              "  @keyframes spin {\n",
              "    0% {\n",
              "      border-color: transparent;\n",
              "      border-bottom-color: var(--fill-color);\n",
              "      border-left-color: var(--fill-color);\n",
              "    }\n",
              "    20% {\n",
              "      border-color: transparent;\n",
              "      border-left-color: var(--fill-color);\n",
              "      border-top-color: var(--fill-color);\n",
              "    }\n",
              "    30% {\n",
              "      border-color: transparent;\n",
              "      border-left-color: var(--fill-color);\n",
              "      border-top-color: var(--fill-color);\n",
              "      border-right-color: var(--fill-color);\n",
              "    }\n",
              "    40% {\n",
              "      border-color: transparent;\n",
              "      border-right-color: var(--fill-color);\n",
              "      border-top-color: var(--fill-color);\n",
              "    }\n",
              "    60% {\n",
              "      border-color: transparent;\n",
              "      border-right-color: var(--fill-color);\n",
              "    }\n",
              "    80% {\n",
              "      border-color: transparent;\n",
              "      border-right-color: var(--fill-color);\n",
              "      border-bottom-color: var(--fill-color);\n",
              "    }\n",
              "    90% {\n",
              "      border-color: transparent;\n",
              "      border-bottom-color: var(--fill-color);\n",
              "    }\n",
              "  }\n",
              "</style>\n",
              "\n",
              "  <script>\n",
              "    async function quickchart(key) {\n",
              "      const quickchartButtonEl =\n",
              "        document.querySelector('#' + key + ' button');\n",
              "      quickchartButtonEl.disabled = true;  // To prevent multiple clicks.\n",
              "      quickchartButtonEl.classList.add('colab-df-spinner');\n",
              "      try {\n",
              "        const charts = await google.colab.kernel.invokeFunction(\n",
              "            'suggestCharts', [key], {});\n",
              "      } catch (error) {\n",
              "        console.error('Error during call to suggestCharts:', error);\n",
              "      }\n",
              "      quickchartButtonEl.classList.remove('colab-df-spinner');\n",
              "      quickchartButtonEl.classList.add('colab-df-quickchart-complete');\n",
              "    }\n",
              "    (() => {\n",
              "      let quickchartButtonEl =\n",
              "        document.querySelector('#df-e55afcea-d739-4fee-b3b8-43d62fa37060 button');\n",
              "      quickchartButtonEl.style.display =\n",
              "        google.colab.kernel.accessAllowed ? 'block' : 'none';\n",
              "    })();\n",
              "  </script>\n",
              "</div>\n",
              "    </div>\n",
              "  </div>\n"
            ]
          },
          "metadata": {},
          "execution_count": 7
        }
      ],
      "source": [
        "df.describe(include='all')\n"
      ]
    },
    {
      "cell_type": "code",
      "execution_count": null,
      "id": "0034cd71",
      "metadata": {
        "id": "0034cd71",
        "outputId": "e52ccab3-29dd-4219-ddea-1ffcc4c75ab5",
        "colab": {
          "base_uri": "https://localhost:8080/",
          "height": 466
        }
      },
      "outputs": [
        {
          "output_type": "execute_result",
          "data": {
            "text/plain": [
              "<Axes: xlabel='target', ylabel='count'>"
            ]
          },
          "metadata": {},
          "execution_count": 8
        },
        {
          "output_type": "display_data",
          "data": {
            "text/plain": [
              "<Figure size 640x480 with 1 Axes>"
            ],
            "image/png": "[encoded data removed]"
          },
          "metadata": {}
        }
      ],
      "source": [
        "import seaborn as sns\n",
        "\n",
        "sns.countplot(x=df['target'])"
      ]
    },
    {
      "cell_type": "code",
      "execution_count": null,
      "id": "b9f75179",
      "metadata": {
        "id": "b9f75179",
        "outputId": "e789e579-31ae-4663-c7b5-53960ab47a88",
        "colab": {
          "base_uri": "https://localhost:8080/"
        }
      },
      "outputs": [
        {
          "output_type": "execute_result",
          "data": {
            "text/plain": [
              "array([4, 0])"
            ]
          },
          "metadata": {},
          "execution_count": 9
        }
      ],
      "source": [
        "df['target'].unique()"
      ]
    },
    {
      "cell_type": "code",
      "execution_count": null,
      "id": "e16e81e0",
      "metadata": {
        "id": "e16e81e0"
      },
      "outputs": [],
      "source": [
        "df['target'] = df['target'].replace(4, 1)"
      ]
    },
    {
      "cell_type": "code",
      "execution_count": null,
      "id": "74e4c0d7",
      "metadata": {
        "id": "74e4c0d7",
        "outputId": "d3b8969a-27ec-4917-9c10-f0552f48a9d2",
        "colab": {
          "base_uri": "https://localhost:8080/"
        }
      },
      "outputs": [
        {
          "output_type": "execute_result",
          "data": {
            "text/plain": [
              "array([1, 0])"
            ]
          },
          "metadata": {},
          "execution_count": 11
        }
      ],
      "source": [
        "df['target'].unique()"
      ]
    },
    {
      "cell_type": "code",
      "execution_count": null,
      "id": "c2035018",
      "metadata": {
        "id": "c2035018",
        "outputId": "f3d18553-8fc3-4553-9c0d-30a0c2429cba",
        "colab": {
          "base_uri": "https://localhost:8080/",
          "height": 206
        }
      },
      "outputs": [
        {
          "output_type": "execute_result",
          "data": {
            "text/plain": [
              "         target                                               text\n",
              "1469178       1  Starbucks for coffee and scones for breakfast ...\n",
              "1271632       1  Honestly I LOVE YOU @RyanSeacrest !!! U r SO h...\n",
              "415941        0  I couldn't save the baby bird.  My cat is such...\n",
              "381983        0                      Someone ate all my chocolate \n",
              "5560          0  Argh...throttled to 64k up and down...I know d..."
            ],
            "text/html": [
              "\n",
              "  <div id=\"df-829c4599-3b1e-41cf-b192-51fa7ab7b348\" class=\"colab-df-container\">\n",
              "    <div>\n",
              "<style scoped>\n",
              "    .dataframe tbody tr th:only-of-type {\n",
              "        vertical-align: middle;\n",
              "    }\n",
              "\n",
              "    .dataframe tbody tr th {\n",
              "        vertical-align: top;\n",
              "    }\n",
              "\n",
              "    .dataframe thead th {\n",
              "        text-align: right;\n",
              "    }\n",
              "</style>\n",
              "<table border=\"1\" class=\"dataframe\">\n",
              "  <thead>\n",
              "    <tr style=\"text-align: right;\">\n",
              "      <th></th>\n",
              "      <th>target</th>\n",
              "      <th>text</th>\n",
              "    </tr>\n",
              "  </thead>\n",
              "  <tbody>\n",
              "    <tr>\n",
              "      <th>1469178</th>\n",
              "      <td>1</td>\n",
              "      <td>Starbucks for coffee and scones for breakfast ...</td>\n",
              "    </tr>\n",
              "    <tr>\n",
              "      <th>1271632</th>\n",
              "      <td>1</td>\n",
              "      <td>Honestly I LOVE YOU @RyanSeacrest !!! U r SO h...</td>\n",
              "    </tr>\n",
              "    <tr>\n",
              "      <th>415941</th>\n",
              "      <td>0</td>\n",
              "      <td>I couldn't save the baby bird.  My cat is such...</td>\n",
              "    </tr>\n",
              "    <tr>\n",
              "      <th>381983</th>\n",
              "      <td>0</td>\n",
              "      <td>Someone ate all my chocolate</td>\n",
              "    </tr>\n",
              "    <tr>\n",
              "      <th>5560</th>\n",
              "      <td>0</td>\n",
              "      <td>Argh...throttled to 64k up and down...I know d...</td>\n",
              "    </tr>\n",
              "  </tbody>\n",
              "</table>\n",
              "</div>\n",
              "    <div class=\"colab-df-buttons\">\n",
              "\n",
              "  <div class=\"colab-df-container\">\n",
              "    <button class=\"colab-df-convert\" onclick=\"convertToInteractive('df-829c4599-3b1e-41cf-b192-51fa7ab7b348')\"\n",
              "            title=\"Convert this dataframe to an interactive table.\"\n",
              "            style=\"display:none;\">\n",
              "\n",
              "  <svg xmlns=\"http://www.w3.org/2000/svg\" height=\"24px\" viewBox=\"0 -960 960 960\">\n",
              "    <path d=\"M120-120v-720h720v720H120Zm60-500h600v-160H180v160Zm220 220h160v-160H400v160Zm0 220h160v-160H400v160ZM180-400h160v-160H180v160Zm440 0h160v-160H620v160ZM180-180h160v-160H180v160Zm440 0h160v-160H620v160Z\"/>\n",
              "  </svg>\n",
              "    </button>\n",
              "\n",
              "  <style>\n",
              "    .colab-df-container {\n",
              "      display:flex;\n",
              "      gap: 12px;\n",
              "    }\n",
              "\n",
              "    .colab-df-convert {\n",
              "      background-color: #E8F0FE;\n",
              "      border: none;\n",
              "      border-radius: 50%;\n",
              "      cursor: pointer;\n",
              "      display: none;\n",
              "      fill: #1967D2;\n",
              "      height: 32px;\n",
              "      padding: 0 0 0 0;\n",
              "      width: 32px;\n",
              "    }\n",
              "\n",
              "    .colab-df-convert:hover {\n",
              "      background-color: #E2EBFA;\n",
              "      box-shadow: 0px 1px 2px rgba(60, 64, 67, 0.3), 0px 1px 3px 1px rgba(60, 64, 67, 0.15);\n",
              "      fill: #174EA6;\n",
              "    }\n",
              "\n",
              "    .colab-df-buttons div {\n",
              "      margin-bottom: 4px;\n",
              "    }\n",
              "\n",
              "    [theme=dark] .colab-df-convert {\n",
              "      background-color: #3B4455;\n",
              "      fill: #D2E3FC;\n",
              "    }\n",
              "\n",
              "    [theme=dark] .colab-df-convert:hover {\n",
              "      background-color: #434B5C;\n",
              "      box-shadow: 0px 1px 3px 1px rgba(0, 0, 0, 0.15);\n",
              "      filter: drop-shadow(0px 1px 2px rgba(0, 0, 0, 0.3));\n",
              "      fill: #FFFFFF;\n",
              "    }\n",
              "  </style>\n",
              "\n",
              "    <script>\n",
              "      const buttonEl =\n",
              "        document.querySelector('#df-829c4599-3b1e-41cf-b192-51fa7ab7b348 button.colab-df-convert');\n",
              "      buttonEl.style.display =\n",
              "        google.colab.kernel.accessAllowed ? 'block' : 'none';\n",
              "\n",
              "      async function convertToInteractive(key) {\n",
              "        const element = document.querySelector('#df-829c4599-3b1e-41cf-b192-51fa7ab7b348');\n",
              "        const dataTable =\n",
              "          await google.colab.kernel.invokeFunction('convertToInteractive',\n",
              "                                                    [key], {});\n",
              "        if (!dataTable) return;\n",
              "\n",
              "        const docLinkHtml = 'Like what you see? Visit the ' +\n",
              "          '<a target=\"_blank\" href=https://colab.research.google.com/notebooks/data_table.ipynb>data table notebook</a>'\n",
              "          + ' to learn more about interactive tables.';\n",
              "        element.innerHTML = '';\n",
              "        dataTable['output_type'] = 'display_data';\n",
              "        await google.colab.output.renderOutput(dataTable, element);\n",
              "        const docLink = document.createElement('div');\n",
              "        docLink.innerHTML = docLinkHtml;\n",
              "        element.appendChild(docLink);\n",
              "      }\n",
              "    </script>\n",
              "  </div>\n",
              "\n",
              "\n",
              "<div id=\"df-ead7f7af-7a59-4f89-8a48-35e8abd0db90\">\n",
              "  <button class=\"colab-df-quickchart\" onclick=\"quickchart('df-ead7f7af-7a59-4f89-8a48-35e8abd0db90')\"\n",
              "            title=\"Suggest charts\"\n",
              "            style=\"display:none;\">\n",
              "\n",
              "<svg xmlns=\"http://www.w3.org/2000/svg\" height=\"24px\"viewBox=\"0 0 24 24\"\n",
              "     width=\"24px\">\n",
              "    <g>\n",
              "        <path d=\"M19 3H5c-1.1 0-2 .9-2 2v14c0 1.1.9 2 2 2h14c1.1 0 2-.9 2-2V5c0-1.1-.9-2-2-2zM9 17H7v-7h2v7zm4 0h-2V7h2v10zm4 0h-2v-4h2v4z\"/>\n",
              "    </g>\n",
              "</svg>\n",
              "  </button>\n",
              "\n",
              "<style>\n",
              "  .colab-df-quickchart {\n",
              "      --bg-color: #E8F0FE;\n",
              "      --fill-color: #1967D2;\n",
              "      --hover-bg-color: #E2EBFA;\n",
              "      --hover-fill-color: #174EA6;\n",
              "      --disabled-fill-color: #AAA;\n",
              "      --disabled-bg-color: #DDD;\n",
              "  }\n",
              "\n",
              "  [theme=dark] .colab-df-quickchart {\n",
              "      --bg-color: #3B4455;\n",
              "      --fill-color: #D2E3FC;\n",
              "      --hover-bg-color: #434B5C;\n",
              "      --hover-fill-color: #FFFFFF;\n",
              "      --disabled-bg-color: #3B4455;\n",
              "      --disabled-fill-color: #666;\n",
              "  }\n",
              "\n",
              "  .colab-df-quickchart {\n",
              "    background-color: var(--bg-color);\n",
              "    border: none;\n",
              "    border-radius: 50%;\n",
              "    cursor: pointer;\n",
              "    display: none;\n",
              "    fill: var(--fill-color);\n",
              "    height: 32px;\n",
              "    padding: 0;\n",
              "    width: 32px;\n",
              "  }\n",
              "\n",
              "  .colab-df-quickchart:hover {\n",
              "    background-color: var(--hover-bg-color);\n",
              "    box-shadow: 0 1px 2px rgba(60, 64, 67, 0.3), 0 1px 3px 1px rgba(60, 64, 67, 0.15);\n",
              "    fill: var(--button-hover-fill-color);\n",
              "  }\n",
              "\n",
              "  .colab-df-quickchart-complete:disabled,\n",
              "  .colab-df-quickchart-complete:disabled:hover {\n",
              "    background-color: var(--disabled-bg-color);\n",
              "    fill: var(--disabled-fill-color);\n",
              "    box-shadow: none;\n",
              "  }\n",
              "\n",
              "  .colab-df-spinner {\n",
              "    border: 2px solid var(--fill-color);\n",
              "    border-color: transparent;\n",
              "    border-bottom-color: var(--fill-color);\n",
              "    animation:\n",
              "      spin 1s steps(1) infinite;\n",
              "  }\n",
              "\n",
              "  @keyframes spin {\n",
              "    0% {\n",
              "      border-color: transparent;\n",
              "      border-bottom-color: var(--fill-color);\n",
              "      border-left-color: var(--fill-color);\n",
              "    }\n",
              "    20% {\n",
              "      border-color: transparent;\n",
              "      border-left-color: var(--fill-color);\n",
              "      border-top-color: var(--fill-color);\n",
              "    }\n",
              "    30% {\n",
              "      border-color: transparent;\n",
              "      border-left-color: var(--fill-color);\n",
              "      border-top-color: var(--fill-color);\n",
              "      border-right-color: var(--fill-color);\n",
              "    }\n",
              "    40% {\n",
              "      border-color: transparent;\n",
              "      border-right-color: var(--fill-color);\n",
              "      border-top-color: var(--fill-color);\n",
              "    }\n",
              "    60% {\n",
              "      border-color: transparent;\n",
              "      border-right-color: var(--fill-color);\n",
              "    }\n",
              "    80% {\n",
              "      border-color: transparent;\n",
              "      border-right-color: var(--fill-color);\n",
              "      border-bottom-color: var(--fill-color);\n",
              "    }\n",
              "    90% {\n",
              "      border-color: transparent;\n",
              "      border-bottom-color: var(--fill-color);\n",
              "    }\n",
              "  }\n",
              "</style>\n",
              "\n",
              "  <script>\n",
              "    async function quickchart(key) {\n",
              "      const quickchartButtonEl =\n",
              "        document.querySelector('#' + key + ' button');\n",
              "      quickchartButtonEl.disabled = true;  // To prevent multiple clicks.\n",
              "      quickchartButtonEl.classList.add('colab-df-spinner');\n",
              "      try {\n",
              "        const charts = await google.colab.kernel.invokeFunction(\n",
              "            'suggestCharts', [key], {});\n",
              "      } catch (error) {\n",
              "        console.error('Error during call to suggestCharts:', error);\n",
              "      }\n",
              "      quickchartButtonEl.classList.remove('colab-df-spinner');\n",
              "      quickchartButtonEl.classList.add('colab-df-quickchart-complete');\n",
              "    }\n",
              "    (() => {\n",
              "      let quickchartButtonEl =\n",
              "        document.querySelector('#df-ead7f7af-7a59-4f89-8a48-35e8abd0db90 button');\n",
              "      quickchartButtonEl.style.display =\n",
              "        google.colab.kernel.accessAllowed ? 'block' : 'none';\n",
              "    })();\n",
              "  </script>\n",
              "</div>\n",
              "    </div>\n",
              "  </div>\n"
            ]
          },
          "metadata": {},
          "execution_count": 12
        }
      ],
      "source": [
        "df = df.drop(['ids', 'date', 'flag','user'], axis = 1)\n",
        "df.head()"
      ]
    },
    {
      "cell_type": "markdown",
      "id": "7c961076",
      "metadata": {
        "id": "7c961076"
      },
      "source": [
        "# 4. Preprocessing"
      ]
    },
    {
      "cell_type": "code",
      "execution_count": null,
      "id": "48542eb4",
      "metadata": {
        "id": "48542eb4"
      },
      "outputs": [],
      "source": [
        "data = df['text']\n",
        "labels = np.array(df['target'])"
      ]
    },
    {
      "cell_type": "code",
      "execution_count": null,
      "id": "3c1a149a",
      "metadata": {
        "id": "3c1a149a",
        "outputId": "7527b4c2-4bb3-434e-c86c-bb617eba1171",
        "colab": {
          "base_uri": "https://localhost:8080/",
          "height": 35
        }
      },
      "outputs": [
        {
          "output_type": "execute_result",
          "data": {
            "text/plain": [
              "'Honestly I LOVE YOU @RyanSeacrest !!! U r SO hot! '"
            ],
            "application/vnd.google.colaboratory.intrinsic+json": {
              "type": "string"
            }
          },
          "metadata": {},
          "execution_count": 14
        }
      ],
      "source": [
        "data.iloc[1]"
      ]
    },
    {
      "cell_type": "code",
      "execution_count": null,
      "id": "4622b7a6",
      "metadata": {
        "id": "4622b7a6"
      },
      "outputs": [],
      "source": [
        "stop = set(stopwords.words('english'))\n",
        "punctuation = list(string.punctuation)\n",
        "stop.update(punctuation)\n",
        "\n",
        "def split_into_words(text):\n",
        "    words = text.split()\n",
        "    return words\n",
        "\n",
        "def to_lower_case(words):\n",
        "    words = [word.lower() for word in words]\n",
        "    return words\n",
        "\n",
        "def remove_punctuation(words):\n",
        "    re_punc = re.compile('[%s]' % re.escape(string.punctuation))\n",
        "    stripped = [re_punc.sub('', w) for w in words]\n",
        "    return stripped\n",
        "\n",
        "def keep_alphabetic(words):\n",
        "    words = [word for word in words if word.isalpha()]\n",
        "    return words\n",
        "\n",
        "def remove_stopwords(words):\n",
        "    stop_words = set(stopwords.words('english'))\n",
        "    words = [w for w in words if not w in stop_words]\n",
        "    return words\n",
        "\n",
        "def to_sentence(words):\n",
        "    return ' '.join(words)\n",
        "\n",
        "def tweet(words):\n",
        "    tweet_tokenizer = nltk.tokenize.TweetTokenizer(strip_handles=True,reduce_len=True)\n",
        "    tweet = tweet_tokenizer.tokenize(words)\n",
        "    return tweet\n",
        "\n",
        "\n",
        "def denoise_text(text):\n",
        "    words = split_into_words(text)\n",
        "    words = to_lower_case(words)\n",
        "    words = remove_punctuation(words)\n",
        "    words = keep_alphabetic(words)\n",
        "    words = remove_stopwords(words)\n",
        "    return to_sentence(words)\n"
      ]
    },
    {
      "cell_type": "code",
      "execution_count": null,
      "id": "07465491",
      "metadata": {
        "id": "07465491"
      },
      "outputs": [],
      "source": [
        "data = data.apply(denoise_text)"
      ]
    },
    {
      "cell_type": "code",
      "execution_count": null,
      "id": "0ae647ff",
      "metadata": {
        "id": "0ae647ff",
        "outputId": "58332f21-53a0-4a3d-bb42-03a18442f0f4",
        "colab": {
          "base_uri": "https://localhost:8080/"
        }
      },
      "outputs": [
        {
          "output_type": "stream",
          "name": "stdout",
          "text": [
            "Before: ['Starbucks for coffee and scones for breakfast this morning.  yaaay!', 'Honestly I LOVE YOU @RyanSeacrest !!! U r SO hot! ']\n",
            "---\n",
            "After: ['starbucks coffee scones breakfast morning yaaay', 'honestly love ryanseacrest u r hot']\n"
          ]
        }
      ],
      "source": [
        "print('Before: {}'. format(list(df['text'][:2])))\n",
        "print('---')\n",
        "print('After: {}'. format(list(data[:2])))"
      ]
    },
    {
      "cell_type": "code",
      "execution_count": null,
      "id": "03328ff0",
      "metadata": {
        "id": "03328ff0"
      },
      "outputs": [],
      "source": [
        "X_train, X_test, y_train, y_test = test = train_test_split(data, labels,test_size=0.20,\n",
        "                                                           random_state=1,\n",
        "                                                           stratify = labels)"
      ]
    },
    {
      "cell_type": "code",
      "execution_count": null,
      "id": "0e3b9704",
      "metadata": {
        "id": "0e3b9704",
        "outputId": "2fdfd85d-e9fa-4475-bb0d-da54ee508ead",
        "colab": {
          "base_uri": "https://localhost:8080/"
        }
      },
      "outputs": [
        {
          "output_type": "execute_result",
          "data": {
            "text/plain": [
              "137162"
            ]
          },
          "metadata": {},
          "execution_count": 19
        }
      ],
      "source": [
        "tokenizer = Tokenizer(num_words=10000, oov_token = '<OOV>')\n",
        "tokenizer.fit_on_texts(X_train)\n",
        "word_index = tokenizer.word_index\n",
        "VOCAB_SIZE = len(word_index)+1\n",
        "VOCAB_SIZE"
      ]
    },
    {
      "cell_type": "code",
      "execution_count": null,
      "id": "280b025b",
      "metadata": {
        "id": "280b025b"
      },
      "outputs": [],
      "source": [
        "maxlen = max([len(x) for x in X_train])\n",
        "maxlen = 50"
      ]
    },
    {
      "cell_type": "code",
      "execution_count": null,
      "id": "ef0f6677",
      "metadata": {
        "id": "ef0f6677"
      },
      "outputs": [],
      "source": [
        "train_sequences = tokenizer.texts_to_sequences(X_train)\n",
        "train_padded_sequences = pad_sequences(train_sequences,maxlen=maxlen,padding='post',truncating='post')\n",
        "test_sequences = tokenizer.texts_to_sequences(X_test)\n",
        "test_padded_sequences = pad_sequences(test_sequences,maxlen=maxlen,padding='post',truncating='post')"
      ]
    },
    {
      "cell_type": "code",
      "execution_count": null,
      "id": "a189894b",
      "metadata": {
        "id": "a189894b",
        "outputId": "77250c28-5457-45ad-9bfe-80830affb2f3",
        "colab": {
          "base_uri": "https://localhost:8080/"
        }
      },
      "outputs": [
        {
          "output_type": "execute_result",
          "data": {
            "text/plain": [
              "50"
            ]
          },
          "metadata": {},
          "execution_count": 22
        }
      ],
      "source": [
        "len(train_padded_sequences[6])\n"
      ]
    },
    {
      "cell_type": "markdown",
      "id": "3e0fe747",
      "metadata": {
        "id": "3e0fe747"
      },
      "source": [
        "# 5. Data Modeling"
      ]
    },
    {
      "cell_type": "code",
      "execution_count": null,
      "id": "c0bcd055",
      "metadata": {
        "id": "c0bcd055"
      },
      "outputs": [],
      "source": [
        "embedding_dim = 32"
      ]
    },
    {
      "cell_type": "code",
      "execution_count": null,
      "id": "73e1531b",
      "metadata": {
        "id": "73e1531b"
      },
      "outputs": [],
      "source": [
        "model = tf.keras.Sequential([\n",
        "        tf.keras.layers.Embedding(VOCAB_SIZE+1, embedding_dim, input_length=maxlen),\n",
        "        tf.keras.layers.Bidirectional(tf.keras.layers.LSTM(16)),\n",
        "        tf.keras.layers.Flatten(),\n",
        "        tf.keras.layers.BatchNormalization(),\n",
        "        tf.keras.layers.Dropout(0.30),\n",
        "        tf.keras.layers.Dense(embedding_dim,activation='relu'),\n",
        "        tf.keras.layers.BatchNormalization(),\n",
        "        tf.keras.layers.Dropout(0.30),\n",
        "        tf.keras.layers.Dense(8,activation='relu'),\n",
        "        tf.keras.layers.Dense(1,activation='sigmoid'),\n",
        "    ])\n",
        "\n",
        "model.compile(loss = 'binary_crossentropy', optimizer = 'adam', metrics = ['accuracy'])"
      ]
    },
    {
      "cell_type": "code",
      "execution_count": null,
      "id": "301b7a0e",
      "metadata": {
        "id": "301b7a0e",
        "outputId": "7fe9968b-f134-4ae1-8825-de04388f4a69",
        "colab": {
          "base_uri": "https://localhost:8080/"
        }
      },
      "outputs": [
        {
          "output_type": "stream",
          "name": "stdout",
          "text": [
            "Model: \"sequential\"\n",
            "_________________________________________________________________\n",
            " Layer (type)                Output Shape              Param #   \n",
            "=================================================================\n",
            " embedding (Embedding)       (None, 50, 32)            4389216   \n",
            "                                                                 \n",
            " bidirectional (Bidirection  (None, 32)                6272      \n",
            " al)                                                             \n",
            "                                                                 \n",
            " flatten (Flatten)           (None, 32)                0         \n",
            "                                                                 \n",
            " batch_normalization (Batch  (None, 32)                128       \n",
            " Normalization)                                                  \n",
            "                                                                 \n",
            " dropout (Dropout)           (None, 32)                0         \n",
            "                                                                 \n",
            " dense (Dense)               (None, 32)                1056      \n",
            "                                                                 \n",
            " batch_normalization_1 (Bat  (None, 32)                128       \n",
            " chNormalization)                                                \n",
            "                                                                 \n",
            " dropout_1 (Dropout)         (None, 32)                0         \n",
            "                                                                 \n",
            " dense_1 (Dense)             (None, 8)                 264       \n",
            "                                                                 \n",
            " dense_2 (Dense)             (None, 1)                 9         \n",
            "                                                                 \n",
            "=================================================================\n",
            "Total params: 4397073 (16.77 MB)\n",
            "Trainable params: 4396945 (16.77 MB)\n",
            "Non-trainable params: 128 (512.00 Byte)\n",
            "_________________________________________________________________\n"
          ]
        }
      ],
      "source": [
        "model.summary()"
      ]
    },
    {
      "cell_type": "code",
      "execution_count": null,
      "id": "72ba2322",
      "metadata": {
        "id": "72ba2322",
        "outputId": "745d568b-726c-4221-acdb-4a09d3c1650c",
        "colab": {
          "base_uri": "https://localhost:8080/"
        }
      },
      "outputs": [
        {
          "output_type": "stream",
          "name": "stdout",
          "text": [
            "Epoch 1/5\n",
            "4000/4000 [==============================] - 78s 16ms/step - loss: 0.5522 - accuracy: 0.7171 - val_loss: 0.5621 - val_accuracy: 0.7355\n",
            "Epoch 2/5\n",
            "4000/4000 [==============================] - 51s 13ms/step - loss: 0.4796 - accuracy: 0.7720 - val_loss: 0.5498 - val_accuracy: 0.7381\n",
            "Epoch 3/5\n",
            "4000/4000 [==============================] - 47s 12ms/step - loss: 0.4518 - accuracy: 0.7857 - val_loss: 0.4986 - val_accuracy: 0.7573\n",
            "Epoch 4/5\n",
            "4000/4000 [==============================] - 50s 12ms/step - loss: 0.4268 - accuracy: 0.7990 - val_loss: 0.4916 - val_accuracy: 0.7693\n",
            "Epoch 5/5\n",
            "4000/4000 [==============================] - 47s 12ms/step - loss: 0.4022 - accuracy: 0.8116 - val_loss: 0.4898 - val_accuracy: 0.7656\n"
          ]
        }
      ],
      "source": [
        "history = model.fit(train_padded_sequences, y_train,\n",
        "                       validation_split=0.2,\n",
        "                       epochs = 5)"
      ]
    },
    {
      "cell_type": "code",
      "execution_count": null,
      "id": "49d066a0",
      "metadata": {
        "id": "49d066a0",
        "outputId": "57321d53-4d61-457a-9e31-ea30b3ac786b",
        "colab": {
          "base_uri": "https://localhost:8080/"
        }
      },
      "outputs": [
        {
          "output_type": "stream",
          "name": "stdout",
          "text": [
            "manottistreet chea got boo lovin lol label: ; 1\n"
          ]
        }
      ],
      "source": [
        "print(X_test.iloc[99],'label: ;',y_test[99])"
      ]
    },
    {
      "cell_type": "code",
      "execution_count": null,
      "id": "d22da83b",
      "metadata": {
        "id": "d22da83b",
        "outputId": "748c73e1-c736-47fe-e273-6e724aa0f341",
        "colab": {
          "base_uri": "https://localhost:8080/",
          "height": 881
        }
      },
      "outputs": [
        {
          "output_type": "display_data",
          "data": {
            "text/plain": [
              "<Figure size 640x480 with 1 Axes>"
            ],
            "image/png": "[encoded data removed]"
          },
          "metadata": {}
        },
        {
          "output_type": "display_data",
          "data": {
            "text/plain": [
              "<Figure size 640x480 with 1 Axes>"
            ],
            "image/png": "[encoded data removed]"
          },
          "metadata": {}
        }
      ],
      "source": [
        "import matplotlib.pyplot as plt\n",
        "\n",
        "# Plot utility\n",
        "def plot_graphs(model, string):\n",
        "    plt.plot(model.history[string])\n",
        "    plt.plot(model.history['val_'+string])\n",
        "    plt.xlabel(\"Epochs\")\n",
        "    plt.ylabel(string)\n",
        "    plt.legend([string, 'val_'+string])\n",
        "    plt.show()\n",
        "\n",
        "# Plot the accuracy and loss\n",
        "plot_graphs(history, \"accuracy\")\n",
        "plot_graphs(history, \"loss\")"
      ]
    },
    {
      "cell_type": "code",
      "execution_count": null,
      "id": "416dcaf0",
      "metadata": {
        "id": "416dcaf0",
        "colab": {
          "base_uri": "https://localhost:8080/",
          "height": 498
        },
        "outputId": "e444b6a8-485b-4250-bb4c-444b9aeb1d19"
      },
      "outputs": [
        {
          "output_type": "stream",
          "name": "stdout",
          "text": [
            "1250/1250 [==============================] - 9s 7ms/step\n"
          ]
        },
        {
          "output_type": "display_data",
          "data": {
            "text/plain": [
              "<Figure size 640x480 with 2 Axes>"
            ],
            "image/png": "[encoded data removed]"
          },
          "metadata": {}
        }
      ],
      "source": [
        "predicted_test=model.predict(test_padded_sequences)\n",
        "predicted_test = np.round(predicted_test)\n",
        "\n",
        "from sklearn.metrics import confusion_matrix\n",
        "\n",
        "cm = confusion_matrix(y_test,predicted_test)\n",
        "\n",
        "\n",
        "sns.heatmap(cm,\n",
        "            annot=True,\n",
        "            fmt='g',\n",
        "            xticklabels=['0','1'],\n",
        "            yticklabels=['0','1'])\n",
        "plt.ylabel('Prediction',fontsize=13)\n",
        "plt.xlabel('Réelle',fontsize=13)\n",
        "plt.title('Matrice de confusion',fontsize=17)\n",
        "plt.show()"
      ]
    },
    {
      "cell_type": "code",
      "execution_count": null,
      "id": "2097fbe6",
      "metadata": {
        "id": "2097fbe6",
        "colab": {
          "base_uri": "https://localhost:8080/"
        },
        "outputId": "30e2a8a5-93de-4df7-a46b-806ac565cab0"
      },
      "outputs": [
        {
          "output_type": "stream",
          "name": "stdout",
          "text": [
            "Rapport de Classification : \n",
            "               precision    recall  f1-score   support\n",
            "\n",
            "           0       0.77      0.75      0.76     19987\n",
            "           1       0.76      0.78      0.77     20013\n",
            "\n",
            "    accuracy                           0.76     40000\n",
            "   macro avg       0.76      0.76      0.76     40000\n",
            "weighted avg       0.76      0.76      0.76     40000\n",
            "\n",
            "Accuracy:  0.7631\n",
            "Recall :  0.7630914824061513\n",
            "Precision:  0.7632769558343601\n",
            "F1 score:  0.7630561748701039\n"
          ]
        }
      ],
      "source": [
        "from sklearn.metrics import classification_report\n",
        "rapport = classification_report(y_test,predicted_test)\n",
        "\n",
        "print('Rapport de Classification : \\n',rapport)\n",
        "\n",
        "\n",
        "import sklearn.metrics as metrics\n",
        "print(\"Accuracy: \", metrics.accuracy_score(y_test, predicted_test))\n",
        "print(\"Recall : \", metrics.recall_score(y_test, predicted_test, average='macro'))\n",
        "print(\"Precision: \", metrics.precision_score(y_test, predicted_test, average='macro'))\n",
        "print(\"F1 score: \", metrics.f1_score(y_test, predicted_test, average='macro'))"
      ]
    },
    {
      "cell_type": "code",
      "execution_count": null,
      "id": "e9b4f731",
      "metadata": {
        "id": "e9b4f731",
        "outputId": "bbff03ce-7627-4f8d-f5b1-ce388e6dce2a"
      },
      "outputs": [
        {
          "name": "stderr",
          "output_type": "stream",
          "text": [
            "WARNING:absl:Found untraced functions such as _update_step_xla, lstm_cell_1_layer_call_fn, lstm_cell_1_layer_call_and_return_conditional_losses, lstm_cell_2_layer_call_fn, lstm_cell_2_layer_call_and_return_conditional_losses while saving (showing 5 of 5). These functions will not be directly callable after loading.\n"
          ]
        },
        {
          "name": "stdout",
          "output_type": "stream",
          "text": [
            "INFO:tensorflow:Assets written to: SentimentModel\\assets\n"
          ]
        },
        {
          "name": "stderr",
          "output_type": "stream",
          "text": [
            "INFO:tensorflow:Assets written to: SentimentModel\\assets\n"
          ]
        }
      ],
      "source": [
        "model.save('SentimentModel')\n",
        "model.save_weights(\"Model Weights\")"
      ]
    },
    {
      "cell_type": "code",
      "execution_count": null,
      "id": "1558c69e",
      "metadata": {
        "id": "1558c69e"
      },
      "outputs": [],
      "source": []
    }
  ],
  "metadata": {
    "kernelspec": {
      "display_name": "Python 3",
      "name": "python3"
    },
    "language_info": {
      "codemirror_mode": {
        "name": "ipython",
        "version": 3
      },
      "file_extension": ".py",
      "mimetype": "text/x-python",
      "name": "python",
      "nbconvert_exporter": "python",
      "pygments_lexer": "ipython3",
      "version": "3.11.5"
    },
    "colab": {
      "provenance": [],
      "gpuType": "T4",
      "include_colab_link": true
    },
    "accelerator": "GPU"
  },
  "nbformat": 4,
  "nbformat_minor": 5
}